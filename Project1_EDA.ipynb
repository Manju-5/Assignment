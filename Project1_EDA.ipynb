{
  "nbformat": 4,
  "nbformat_minor": 0,
  "metadata": {
    "colab": {
      "provenance": [],
      "authorship_tag": "ABX9TyNY0EpinvlxkcN4R9sboQiW",
      "include_colab_link": true
    },
    "kernelspec": {
      "name": "python3",
      "display_name": "Python 3"
    },
    "language_info": {
      "name": "python"
    }
  },
  "cells": [
    {
      "cell_type": "markdown",
      "metadata": {
        "id": "view-in-github",
        "colab_type": "text"
      },
      "source": [
        "<a href=\"https://colab.research.google.com/github/Manju-5/Assignment/blob/main/Project1_EDA.ipynb\" target=\"_parent\"><img src=\"https://colab.research.google.com/assets/colab-badge.svg\" alt=\"Open In Colab\"/></a>"
      ]
    },
    {
      "cell_type": "markdown",
      "source": [
        "**INSURANCE CLAIM PREDICTION**"
      ],
      "metadata": {
        "id": "hpEBzeEVh7KE"
      }
    },
    {
      "cell_type": "markdown",
      "source": [
        "### ***EDA - Car Insurance Claim Data***\n",
        "The project Car Insurance Claim Dataset from Kaggle is used to generate some insights about car insurance claims and see what factors will make customers more likely to be 'repeat'. Data cleansing is done and created some new features using pandas. Create visualizations of the data using matplotlib and seaborn.\n",
        "Tasks include:\n",
        "\n",
        "Data Preprocessing:\n",
        "\n",
        "Create target variable 'repeat' ;\n",
        "Convert data types to numeric ;\n",
        "Clean up messy string data entries ;\n",
        "Exploratory Data Analysis."
      ],
      "metadata": {
        "id": "mplViJ-BibA9"
      }
    },
    {
      "cell_type": "markdown",
      "source": [
        "*Exploratory Data Analysis:\n",
        "\n",
        "Create visualizations to determine what attributes lead to repeat insurance claims.\n",
        "\n",
        "Make use of matplotlib and seaborn to create graphs that are easy to understand.\n",
        "\n",
        "Separate numerical variables into categorical data for plotting.\n",
        "\n",
        "Use visualizations to determine whether or not a variable is suitable for our ML model."
      ],
      "metadata": {
        "id": "_ZoMwnxhwNgZ"
      }
    },
    {
      "cell_type": "markdown",
      "source": [
        "*Univariate and bivariate plots\n",
        "\n",
        "A univariate plot shows the data and summarizes its distribution.Eg.(1) Dot plot: A dot plot, also known as a strip plot, shows the individual observations.(2) Box plot: A box plot shows the five-number summary of the data – the minimum, first quartile, median, third quartile, and maximum.\n",
        "A bivariate plot graphs the relationship between two variables that have been measured on a single sample of subjects. Such a plot permits you to see at a glance the degree and pattern of relation between the two variables."
      ],
      "metadata": {
        "id": "4fl3D1ZueLDb"
      }
    },
    {
      "cell_type": "code",
      "execution_count": null,
      "metadata": {
        "colab": {
          "base_uri": "https://localhost:8080/",
          "height": 473
        },
        "id": "meGLPOpbEMqs",
        "outputId": "b1435e9c-e664-45fa-f2c1-01f7f825b4c1"
      },
      "outputs": [
        {
          "output_type": "execute_result",
          "data": {
            "text/plain": [
              "          ID  KIDSDRIV    BIRTH   AGE  HOMEKIDS   YOJ   INCOME PARENT1  \\\n",
              "0   63581743         0  16MAR39  60.0         0  11.0  $67,349      No   \n",
              "1  132761049         0  21JAN56  43.0         0  11.0  $91,449      No   \n",
              "2  921317019         0  18NOV51  48.0         0  11.0  $52,881      No   \n",
              "3  727598473         0  05MAR64  35.0         1  10.0  $16,039      No   \n",
              "4  450221861         0  05JUN48  51.0         0  14.0      NaN      No   \n",
              "\n",
              "   HOME_VAL MSTATUS  ... CAR_TYPE RED_CAR OLDCLAIM  CLM_FREQ REVOKED MVR_PTS  \\\n",
              "0        $0    z_No  ...  Minivan     yes   $4,461         2      No       3   \n",
              "1  $257,252    z_No  ...  Minivan     yes       $0         0      No       0   \n",
              "2        $0    z_No  ...      Van     yes       $0         0      No       2   \n",
              "3  $124,191     Yes  ...    z_SUV      no  $38,690         2      No       3   \n",
              "4  $306,251     Yes  ...  Minivan     yes       $0         0      No       0   \n",
              "\n",
              "   CLM_AMT CAR_AGE CLAIM_FLAG           URBANICITY  \n",
              "0       $0    18.0          0  Highly Urban/ Urban  \n",
              "1       $0     1.0          0  Highly Urban/ Urban  \n",
              "2       $0    10.0          0  Highly Urban/ Urban  \n",
              "3       $0    10.0          0  Highly Urban/ Urban  \n",
              "4       $0     6.0          0  Highly Urban/ Urban  \n",
              "\n",
              "[5 rows x 27 columns]"
            ],
            "text/html": [
              "\n",
              "  <div id=\"df-611c65fc-4e32-4f8a-8461-04e616a47ccc\">\n",
              "    <div class=\"colab-df-container\">\n",
              "      <div>\n",
              "<style scoped>\n",
              "    .dataframe tbody tr th:only-of-type {\n",
              "        vertical-align: middle;\n",
              "    }\n",
              "\n",
              "    .dataframe tbody tr th {\n",
              "        vertical-align: top;\n",
              "    }\n",
              "\n",
              "    .dataframe thead th {\n",
              "        text-align: right;\n",
              "    }\n",
              "</style>\n",
              "<table border=\"1\" class=\"dataframe\">\n",
              "  <thead>\n",
              "    <tr style=\"text-align: right;\">\n",
              "      <th></th>\n",
              "      <th>ID</th>\n",
              "      <th>KIDSDRIV</th>\n",
              "      <th>BIRTH</th>\n",
              "      <th>AGE</th>\n",
              "      <th>HOMEKIDS</th>\n",
              "      <th>YOJ</th>\n",
              "      <th>INCOME</th>\n",
              "      <th>PARENT1</th>\n",
              "      <th>HOME_VAL</th>\n",
              "      <th>MSTATUS</th>\n",
              "      <th>...</th>\n",
              "      <th>CAR_TYPE</th>\n",
              "      <th>RED_CAR</th>\n",
              "      <th>OLDCLAIM</th>\n",
              "      <th>CLM_FREQ</th>\n",
              "      <th>REVOKED</th>\n",
              "      <th>MVR_PTS</th>\n",
              "      <th>CLM_AMT</th>\n",
              "      <th>CAR_AGE</th>\n",
              "      <th>CLAIM_FLAG</th>\n",
              "      <th>URBANICITY</th>\n",
              "    </tr>\n",
              "  </thead>\n",
              "  <tbody>\n",
              "    <tr>\n",
              "      <th>0</th>\n",
              "      <td>63581743</td>\n",
              "      <td>0</td>\n",
              "      <td>16MAR39</td>\n",
              "      <td>60.0</td>\n",
              "      <td>0</td>\n",
              "      <td>11.0</td>\n",
              "      <td>$67,349</td>\n",
              "      <td>No</td>\n",
              "      <td>$0</td>\n",
              "      <td>z_No</td>\n",
              "      <td>...</td>\n",
              "      <td>Minivan</td>\n",
              "      <td>yes</td>\n",
              "      <td>$4,461</td>\n",
              "      <td>2</td>\n",
              "      <td>No</td>\n",
              "      <td>3</td>\n",
              "      <td>$0</td>\n",
              "      <td>18.0</td>\n",
              "      <td>0</td>\n",
              "      <td>Highly Urban/ Urban</td>\n",
              "    </tr>\n",
              "    <tr>\n",
              "      <th>1</th>\n",
              "      <td>132761049</td>\n",
              "      <td>0</td>\n",
              "      <td>21JAN56</td>\n",
              "      <td>43.0</td>\n",
              "      <td>0</td>\n",
              "      <td>11.0</td>\n",
              "      <td>$91,449</td>\n",
              "      <td>No</td>\n",
              "      <td>$257,252</td>\n",
              "      <td>z_No</td>\n",
              "      <td>...</td>\n",
              "      <td>Minivan</td>\n",
              "      <td>yes</td>\n",
              "      <td>$0</td>\n",
              "      <td>0</td>\n",
              "      <td>No</td>\n",
              "      <td>0</td>\n",
              "      <td>$0</td>\n",
              "      <td>1.0</td>\n",
              "      <td>0</td>\n",
              "      <td>Highly Urban/ Urban</td>\n",
              "    </tr>\n",
              "    <tr>\n",
              "      <th>2</th>\n",
              "      <td>921317019</td>\n",
              "      <td>0</td>\n",
              "      <td>18NOV51</td>\n",
              "      <td>48.0</td>\n",
              "      <td>0</td>\n",
              "      <td>11.0</td>\n",
              "      <td>$52,881</td>\n",
              "      <td>No</td>\n",
              "      <td>$0</td>\n",
              "      <td>z_No</td>\n",
              "      <td>...</td>\n",
              "      <td>Van</td>\n",
              "      <td>yes</td>\n",
              "      <td>$0</td>\n",
              "      <td>0</td>\n",
              "      <td>No</td>\n",
              "      <td>2</td>\n",
              "      <td>$0</td>\n",
              "      <td>10.0</td>\n",
              "      <td>0</td>\n",
              "      <td>Highly Urban/ Urban</td>\n",
              "    </tr>\n",
              "    <tr>\n",
              "      <th>3</th>\n",
              "      <td>727598473</td>\n",
              "      <td>0</td>\n",
              "      <td>05MAR64</td>\n",
              "      <td>35.0</td>\n",
              "      <td>1</td>\n",
              "      <td>10.0</td>\n",
              "      <td>$16,039</td>\n",
              "      <td>No</td>\n",
              "      <td>$124,191</td>\n",
              "      <td>Yes</td>\n",
              "      <td>...</td>\n",
              "      <td>z_SUV</td>\n",
              "      <td>no</td>\n",
              "      <td>$38,690</td>\n",
              "      <td>2</td>\n",
              "      <td>No</td>\n",
              "      <td>3</td>\n",
              "      <td>$0</td>\n",
              "      <td>10.0</td>\n",
              "      <td>0</td>\n",
              "      <td>Highly Urban/ Urban</td>\n",
              "    </tr>\n",
              "    <tr>\n",
              "      <th>4</th>\n",
              "      <td>450221861</td>\n",
              "      <td>0</td>\n",
              "      <td>05JUN48</td>\n",
              "      <td>51.0</td>\n",
              "      <td>0</td>\n",
              "      <td>14.0</td>\n",
              "      <td>NaN</td>\n",
              "      <td>No</td>\n",
              "      <td>$306,251</td>\n",
              "      <td>Yes</td>\n",
              "      <td>...</td>\n",
              "      <td>Minivan</td>\n",
              "      <td>yes</td>\n",
              "      <td>$0</td>\n",
              "      <td>0</td>\n",
              "      <td>No</td>\n",
              "      <td>0</td>\n",
              "      <td>$0</td>\n",
              "      <td>6.0</td>\n",
              "      <td>0</td>\n",
              "      <td>Highly Urban/ Urban</td>\n",
              "    </tr>\n",
              "  </tbody>\n",
              "</table>\n",
              "<p>5 rows × 27 columns</p>\n",
              "</div>\n",
              "      <button class=\"colab-df-convert\" onclick=\"convertToInteractive('df-611c65fc-4e32-4f8a-8461-04e616a47ccc')\"\n",
              "              title=\"Convert this dataframe to an interactive table.\"\n",
              "              style=\"display:none;\">\n",
              "        \n",
              "  <svg xmlns=\"http://www.w3.org/2000/svg\" height=\"24px\"viewBox=\"0 0 24 24\"\n",
              "       width=\"24px\">\n",
              "    <path d=\"M0 0h24v24H0V0z\" fill=\"none\"/>\n",
              "    <path d=\"M18.56 5.44l.94 2.06.94-2.06 2.06-.94-2.06-.94-.94-2.06-.94 2.06-2.06.94zm-11 1L8.5 8.5l.94-2.06 2.06-.94-2.06-.94L8.5 2.5l-.94 2.06-2.06.94zm10 10l.94 2.06.94-2.06 2.06-.94-2.06-.94-.94-2.06-.94 2.06-2.06.94z\"/><path d=\"M17.41 7.96l-1.37-1.37c-.4-.4-.92-.59-1.43-.59-.52 0-1.04.2-1.43.59L10.3 9.45l-7.72 7.72c-.78.78-.78 2.05 0 2.83L4 21.41c.39.39.9.59 1.41.59.51 0 1.02-.2 1.41-.59l7.78-7.78 2.81-2.81c.8-.78.8-2.07 0-2.86zM5.41 20L4 18.59l7.72-7.72 1.47 1.35L5.41 20z\"/>\n",
              "  </svg>\n",
              "      </button>\n",
              "      \n",
              "  <style>\n",
              "    .colab-df-container {\n",
              "      display:flex;\n",
              "      flex-wrap:wrap;\n",
              "      gap: 12px;\n",
              "    }\n",
              "\n",
              "    .colab-df-convert {\n",
              "      background-color: #E8F0FE;\n",
              "      border: none;\n",
              "      border-radius: 50%;\n",
              "      cursor: pointer;\n",
              "      display: none;\n",
              "      fill: #1967D2;\n",
              "      height: 32px;\n",
              "      padding: 0 0 0 0;\n",
              "      width: 32px;\n",
              "    }\n",
              "\n",
              "    .colab-df-convert:hover {\n",
              "      background-color: #E2EBFA;\n",
              "      box-shadow: 0px 1px 2px rgba(60, 64, 67, 0.3), 0px 1px 3px 1px rgba(60, 64, 67, 0.15);\n",
              "      fill: #174EA6;\n",
              "    }\n",
              "\n",
              "    [theme=dark] .colab-df-convert {\n",
              "      background-color: #3B4455;\n",
              "      fill: #D2E3FC;\n",
              "    }\n",
              "\n",
              "    [theme=dark] .colab-df-convert:hover {\n",
              "      background-color: #434B5C;\n",
              "      box-shadow: 0px 1px 3px 1px rgba(0, 0, 0, 0.15);\n",
              "      filter: drop-shadow(0px 1px 2px rgba(0, 0, 0, 0.3));\n",
              "      fill: #FFFFFF;\n",
              "    }\n",
              "  </style>\n",
              "\n",
              "      <script>\n",
              "        const buttonEl =\n",
              "          document.querySelector('#df-611c65fc-4e32-4f8a-8461-04e616a47ccc button.colab-df-convert');\n",
              "        buttonEl.style.display =\n",
              "          google.colab.kernel.accessAllowed ? 'block' : 'none';\n",
              "\n",
              "        async function convertToInteractive(key) {\n",
              "          const element = document.querySelector('#df-611c65fc-4e32-4f8a-8461-04e616a47ccc');\n",
              "          const dataTable =\n",
              "            await google.colab.kernel.invokeFunction('convertToInteractive',\n",
              "                                                     [key], {});\n",
              "          if (!dataTable) return;\n",
              "\n",
              "          const docLinkHtml = 'Like what you see? Visit the ' +\n",
              "            '<a target=\"_blank\" href=https://colab.research.google.com/notebooks/data_table.ipynb>data table notebook</a>'\n",
              "            + ' to learn more about interactive tables.';\n",
              "          element.innerHTML = '';\n",
              "          dataTable['output_type'] = 'display_data';\n",
              "          await google.colab.output.renderOutput(dataTable, element);\n",
              "          const docLink = document.createElement('div');\n",
              "          docLink.innerHTML = docLinkHtml;\n",
              "          element.appendChild(docLink);\n",
              "        }\n",
              "      </script>\n",
              "    </div>\n",
              "  </div>\n",
              "  "
            ]
          },
          "metadata": {},
          "execution_count": 21
        }
      ],
      "source": [
        "import pandas as pd # importing the required libraries\n",
        "import numpy as np\n",
        "import seaborn as sns\n",
        "import matplotlib.pyplot as plt\n",
        "data=pd.read_csv('car_insurance_claim.csv') # reading the dataset\n",
        "data.head() "
      ]
    },
    {
      "cell_type": "code",
      "source": [
        "data.describe()"
      ],
      "metadata": {
        "colab": {
          "base_uri": "https://localhost:8080/",
          "height": 364
        },
        "id": "tPrksogiESZl",
        "outputId": "9fde132a-afdf-4033-fcc7-228bd97c153d"
      },
      "execution_count": null,
      "outputs": [
        {
          "output_type": "execute_result",
          "data": {
            "text/plain": [
              "                 ID      KIDSDRIV           AGE      HOMEKIDS          YOJ  \\\n",
              "count  1.030200e+04  10302.000000  10295.000000  10302.000000  9754.000000   \n",
              "mean   4.956631e+08      0.169288     44.837397      0.720443    10.474062   \n",
              "std    2.864675e+08      0.506512      8.606445      1.116323     4.108943   \n",
              "min    6.317500e+04      0.000000     16.000000      0.000000     0.000000   \n",
              "25%    2.442869e+08      0.000000     39.000000      0.000000     9.000000   \n",
              "50%    4.970043e+08      0.000000     45.000000      0.000000    11.000000   \n",
              "75%    7.394551e+08      0.000000     51.000000      1.000000    13.000000   \n",
              "max    9.999264e+08      4.000000     81.000000      5.000000    23.000000   \n",
              "\n",
              "           TRAVTIME           TIF      CLM_FREQ       MVR_PTS      CAR_AGE  \\\n",
              "count  10302.000000  10302.000000  10302.000000  10302.000000  9663.000000   \n",
              "mean      33.416424      5.329159      0.800718      1.710153     8.298148   \n",
              "std       15.869687      4.110795      1.154079      2.159015     5.714450   \n",
              "min        5.000000      1.000000      0.000000      0.000000    -3.000000   \n",
              "25%       22.000000      1.000000      0.000000      0.000000     1.000000   \n",
              "50%       33.000000      4.000000      0.000000      1.000000     8.000000   \n",
              "75%       44.000000      7.000000      2.000000      3.000000    12.000000   \n",
              "max      142.000000     25.000000      5.000000     13.000000    28.000000   \n",
              "\n",
              "         CLAIM_FLAG  \n",
              "count  10302.000000  \n",
              "mean       0.266550  \n",
              "std        0.442177  \n",
              "min        0.000000  \n",
              "25%        0.000000  \n",
              "50%        0.000000  \n",
              "75%        1.000000  \n",
              "max        1.000000  "
            ],
            "text/html": [
              "\n",
              "  <div id=\"df-b3afa46f-9950-4746-a5b2-56dc161bac4f\">\n",
              "    <div class=\"colab-df-container\">\n",
              "      <div>\n",
              "<style scoped>\n",
              "    .dataframe tbody tr th:only-of-type {\n",
              "        vertical-align: middle;\n",
              "    }\n",
              "\n",
              "    .dataframe tbody tr th {\n",
              "        vertical-align: top;\n",
              "    }\n",
              "\n",
              "    .dataframe thead th {\n",
              "        text-align: right;\n",
              "    }\n",
              "</style>\n",
              "<table border=\"1\" class=\"dataframe\">\n",
              "  <thead>\n",
              "    <tr style=\"text-align: right;\">\n",
              "      <th></th>\n",
              "      <th>ID</th>\n",
              "      <th>KIDSDRIV</th>\n",
              "      <th>AGE</th>\n",
              "      <th>HOMEKIDS</th>\n",
              "      <th>YOJ</th>\n",
              "      <th>TRAVTIME</th>\n",
              "      <th>TIF</th>\n",
              "      <th>CLM_FREQ</th>\n",
              "      <th>MVR_PTS</th>\n",
              "      <th>CAR_AGE</th>\n",
              "      <th>CLAIM_FLAG</th>\n",
              "    </tr>\n",
              "  </thead>\n",
              "  <tbody>\n",
              "    <tr>\n",
              "      <th>count</th>\n",
              "      <td>1.030200e+04</td>\n",
              "      <td>10302.000000</td>\n",
              "      <td>10295.000000</td>\n",
              "      <td>10302.000000</td>\n",
              "      <td>9754.000000</td>\n",
              "      <td>10302.000000</td>\n",
              "      <td>10302.000000</td>\n",
              "      <td>10302.000000</td>\n",
              "      <td>10302.000000</td>\n",
              "      <td>9663.000000</td>\n",
              "      <td>10302.000000</td>\n",
              "    </tr>\n",
              "    <tr>\n",
              "      <th>mean</th>\n",
              "      <td>4.956631e+08</td>\n",
              "      <td>0.169288</td>\n",
              "      <td>44.837397</td>\n",
              "      <td>0.720443</td>\n",
              "      <td>10.474062</td>\n",
              "      <td>33.416424</td>\n",
              "      <td>5.329159</td>\n",
              "      <td>0.800718</td>\n",
              "      <td>1.710153</td>\n",
              "      <td>8.298148</td>\n",
              "      <td>0.266550</td>\n",
              "    </tr>\n",
              "    <tr>\n",
              "      <th>std</th>\n",
              "      <td>2.864675e+08</td>\n",
              "      <td>0.506512</td>\n",
              "      <td>8.606445</td>\n",
              "      <td>1.116323</td>\n",
              "      <td>4.108943</td>\n",
              "      <td>15.869687</td>\n",
              "      <td>4.110795</td>\n",
              "      <td>1.154079</td>\n",
              "      <td>2.159015</td>\n",
              "      <td>5.714450</td>\n",
              "      <td>0.442177</td>\n",
              "    </tr>\n",
              "    <tr>\n",
              "      <th>min</th>\n",
              "      <td>6.317500e+04</td>\n",
              "      <td>0.000000</td>\n",
              "      <td>16.000000</td>\n",
              "      <td>0.000000</td>\n",
              "      <td>0.000000</td>\n",
              "      <td>5.000000</td>\n",
              "      <td>1.000000</td>\n",
              "      <td>0.000000</td>\n",
              "      <td>0.000000</td>\n",
              "      <td>-3.000000</td>\n",
              "      <td>0.000000</td>\n",
              "    </tr>\n",
              "    <tr>\n",
              "      <th>25%</th>\n",
              "      <td>2.442869e+08</td>\n",
              "      <td>0.000000</td>\n",
              "      <td>39.000000</td>\n",
              "      <td>0.000000</td>\n",
              "      <td>9.000000</td>\n",
              "      <td>22.000000</td>\n",
              "      <td>1.000000</td>\n",
              "      <td>0.000000</td>\n",
              "      <td>0.000000</td>\n",
              "      <td>1.000000</td>\n",
              "      <td>0.000000</td>\n",
              "    </tr>\n",
              "    <tr>\n",
              "      <th>50%</th>\n",
              "      <td>4.970043e+08</td>\n",
              "      <td>0.000000</td>\n",
              "      <td>45.000000</td>\n",
              "      <td>0.000000</td>\n",
              "      <td>11.000000</td>\n",
              "      <td>33.000000</td>\n",
              "      <td>4.000000</td>\n",
              "      <td>0.000000</td>\n",
              "      <td>1.000000</td>\n",
              "      <td>8.000000</td>\n",
              "      <td>0.000000</td>\n",
              "    </tr>\n",
              "    <tr>\n",
              "      <th>75%</th>\n",
              "      <td>7.394551e+08</td>\n",
              "      <td>0.000000</td>\n",
              "      <td>51.000000</td>\n",
              "      <td>1.000000</td>\n",
              "      <td>13.000000</td>\n",
              "      <td>44.000000</td>\n",
              "      <td>7.000000</td>\n",
              "      <td>2.000000</td>\n",
              "      <td>3.000000</td>\n",
              "      <td>12.000000</td>\n",
              "      <td>1.000000</td>\n",
              "    </tr>\n",
              "    <tr>\n",
              "      <th>max</th>\n",
              "      <td>9.999264e+08</td>\n",
              "      <td>4.000000</td>\n",
              "      <td>81.000000</td>\n",
              "      <td>5.000000</td>\n",
              "      <td>23.000000</td>\n",
              "      <td>142.000000</td>\n",
              "      <td>25.000000</td>\n",
              "      <td>5.000000</td>\n",
              "      <td>13.000000</td>\n",
              "      <td>28.000000</td>\n",
              "      <td>1.000000</td>\n",
              "    </tr>\n",
              "  </tbody>\n",
              "</table>\n",
              "</div>\n",
              "      <button class=\"colab-df-convert\" onclick=\"convertToInteractive('df-b3afa46f-9950-4746-a5b2-56dc161bac4f')\"\n",
              "              title=\"Convert this dataframe to an interactive table.\"\n",
              "              style=\"display:none;\">\n",
              "        \n",
              "  <svg xmlns=\"http://www.w3.org/2000/svg\" height=\"24px\"viewBox=\"0 0 24 24\"\n",
              "       width=\"24px\">\n",
              "    <path d=\"M0 0h24v24H0V0z\" fill=\"none\"/>\n",
              "    <path d=\"M18.56 5.44l.94 2.06.94-2.06 2.06-.94-2.06-.94-.94-2.06-.94 2.06-2.06.94zm-11 1L8.5 8.5l.94-2.06 2.06-.94-2.06-.94L8.5 2.5l-.94 2.06-2.06.94zm10 10l.94 2.06.94-2.06 2.06-.94-2.06-.94-.94-2.06-.94 2.06-2.06.94z\"/><path d=\"M17.41 7.96l-1.37-1.37c-.4-.4-.92-.59-1.43-.59-.52 0-1.04.2-1.43.59L10.3 9.45l-7.72 7.72c-.78.78-.78 2.05 0 2.83L4 21.41c.39.39.9.59 1.41.59.51 0 1.02-.2 1.41-.59l7.78-7.78 2.81-2.81c.8-.78.8-2.07 0-2.86zM5.41 20L4 18.59l7.72-7.72 1.47 1.35L5.41 20z\"/>\n",
              "  </svg>\n",
              "      </button>\n",
              "      \n",
              "  <style>\n",
              "    .colab-df-container {\n",
              "      display:flex;\n",
              "      flex-wrap:wrap;\n",
              "      gap: 12px;\n",
              "    }\n",
              "\n",
              "    .colab-df-convert {\n",
              "      background-color: #E8F0FE;\n",
              "      border: none;\n",
              "      border-radius: 50%;\n",
              "      cursor: pointer;\n",
              "      display: none;\n",
              "      fill: #1967D2;\n",
              "      height: 32px;\n",
              "      padding: 0 0 0 0;\n",
              "      width: 32px;\n",
              "    }\n",
              "\n",
              "    .colab-df-convert:hover {\n",
              "      background-color: #E2EBFA;\n",
              "      box-shadow: 0px 1px 2px rgba(60, 64, 67, 0.3), 0px 1px 3px 1px rgba(60, 64, 67, 0.15);\n",
              "      fill: #174EA6;\n",
              "    }\n",
              "\n",
              "    [theme=dark] .colab-df-convert {\n",
              "      background-color: #3B4455;\n",
              "      fill: #D2E3FC;\n",
              "    }\n",
              "\n",
              "    [theme=dark] .colab-df-convert:hover {\n",
              "      background-color: #434B5C;\n",
              "      box-shadow: 0px 1px 3px 1px rgba(0, 0, 0, 0.15);\n",
              "      filter: drop-shadow(0px 1px 2px rgba(0, 0, 0, 0.3));\n",
              "      fill: #FFFFFF;\n",
              "    }\n",
              "  </style>\n",
              "\n",
              "      <script>\n",
              "        const buttonEl =\n",
              "          document.querySelector('#df-b3afa46f-9950-4746-a5b2-56dc161bac4f button.colab-df-convert');\n",
              "        buttonEl.style.display =\n",
              "          google.colab.kernel.accessAllowed ? 'block' : 'none';\n",
              "\n",
              "        async function convertToInteractive(key) {\n",
              "          const element = document.querySelector('#df-b3afa46f-9950-4746-a5b2-56dc161bac4f');\n",
              "          const dataTable =\n",
              "            await google.colab.kernel.invokeFunction('convertToInteractive',\n",
              "                                                     [key], {});\n",
              "          if (!dataTable) return;\n",
              "\n",
              "          const docLinkHtml = 'Like what you see? Visit the ' +\n",
              "            '<a target=\"_blank\" href=https://colab.research.google.com/notebooks/data_table.ipynb>data table notebook</a>'\n",
              "            + ' to learn more about interactive tables.';\n",
              "          element.innerHTML = '';\n",
              "          dataTable['output_type'] = 'display_data';\n",
              "          await google.colab.output.renderOutput(dataTable, element);\n",
              "          const docLink = document.createElement('div');\n",
              "          docLink.innerHTML = docLinkHtml;\n",
              "          element.appendChild(docLink);\n",
              "        }\n",
              "      </script>\n",
              "    </div>\n",
              "  </div>\n",
              "  "
            ]
          },
          "metadata": {},
          "execution_count": 2
        }
      ]
    },
    {
      "cell_type": "code",
      "source": [
        "data=data.set_index('ID')\n",
        "data.head()"
      ],
      "metadata": {
        "colab": {
          "base_uri": "https://localhost:8080/",
          "height": 504
        },
        "id": "yvJhp2cMESb0",
        "outputId": "d93bbe37-c887-4247-e869-60037f7e10aa"
      },
      "execution_count": null,
      "outputs": [
        {
          "output_type": "execute_result",
          "data": {
            "text/plain": [
              "           KIDSDRIV    BIRTH   AGE  HOMEKIDS   YOJ   INCOME PARENT1  HOME_VAL  \\\n",
              "ID                                                                              \n",
              "63581743          0  16MAR39  60.0         0  11.0  $67,349      No        $0   \n",
              "132761049         0  21JAN56  43.0         0  11.0  $91,449      No  $257,252   \n",
              "921317019         0  18NOV51  48.0         0  11.0  $52,881      No        $0   \n",
              "727598473         0  05MAR64  35.0         1  10.0  $16,039      No  $124,191   \n",
              "450221861         0  05JUN48  51.0         0  14.0      NaN      No  $306,251   \n",
              "\n",
              "          MSTATUS GENDER  ... CAR_TYPE RED_CAR  OLDCLAIM CLM_FREQ REVOKED  \\\n",
              "ID                        ...                                               \n",
              "63581743     z_No      M  ...  Minivan     yes    $4,461        2      No   \n",
              "132761049    z_No      M  ...  Minivan     yes        $0        0      No   \n",
              "921317019    z_No      M  ...      Van     yes        $0        0      No   \n",
              "727598473     Yes    z_F  ...    z_SUV      no   $38,690        2      No   \n",
              "450221861     Yes      M  ...  Minivan     yes        $0        0      No   \n",
              "\n",
              "           MVR_PTS CLM_AMT CAR_AGE CLAIM_FLAG           URBANICITY  \n",
              "ID                                                                  \n",
              "63581743         3      $0    18.0          0  Highly Urban/ Urban  \n",
              "132761049        0      $0     1.0          0  Highly Urban/ Urban  \n",
              "921317019        2      $0    10.0          0  Highly Urban/ Urban  \n",
              "727598473        3      $0    10.0          0  Highly Urban/ Urban  \n",
              "450221861        0      $0     6.0          0  Highly Urban/ Urban  \n",
              "\n",
              "[5 rows x 26 columns]"
            ],
            "text/html": [
              "\n",
              "  <div id=\"df-ebdcb319-09b4-4c4c-b553-25dc653164ba\">\n",
              "    <div class=\"colab-df-container\">\n",
              "      <div>\n",
              "<style scoped>\n",
              "    .dataframe tbody tr th:only-of-type {\n",
              "        vertical-align: middle;\n",
              "    }\n",
              "\n",
              "    .dataframe tbody tr th {\n",
              "        vertical-align: top;\n",
              "    }\n",
              "\n",
              "    .dataframe thead th {\n",
              "        text-align: right;\n",
              "    }\n",
              "</style>\n",
              "<table border=\"1\" class=\"dataframe\">\n",
              "  <thead>\n",
              "    <tr style=\"text-align: right;\">\n",
              "      <th></th>\n",
              "      <th>KIDSDRIV</th>\n",
              "      <th>BIRTH</th>\n",
              "      <th>AGE</th>\n",
              "      <th>HOMEKIDS</th>\n",
              "      <th>YOJ</th>\n",
              "      <th>INCOME</th>\n",
              "      <th>PARENT1</th>\n",
              "      <th>HOME_VAL</th>\n",
              "      <th>MSTATUS</th>\n",
              "      <th>GENDER</th>\n",
              "      <th>...</th>\n",
              "      <th>CAR_TYPE</th>\n",
              "      <th>RED_CAR</th>\n",
              "      <th>OLDCLAIM</th>\n",
              "      <th>CLM_FREQ</th>\n",
              "      <th>REVOKED</th>\n",
              "      <th>MVR_PTS</th>\n",
              "      <th>CLM_AMT</th>\n",
              "      <th>CAR_AGE</th>\n",
              "      <th>CLAIM_FLAG</th>\n",
              "      <th>URBANICITY</th>\n",
              "    </tr>\n",
              "    <tr>\n",
              "      <th>ID</th>\n",
              "      <th></th>\n",
              "      <th></th>\n",
              "      <th></th>\n",
              "      <th></th>\n",
              "      <th></th>\n",
              "      <th></th>\n",
              "      <th></th>\n",
              "      <th></th>\n",
              "      <th></th>\n",
              "      <th></th>\n",
              "      <th></th>\n",
              "      <th></th>\n",
              "      <th></th>\n",
              "      <th></th>\n",
              "      <th></th>\n",
              "      <th></th>\n",
              "      <th></th>\n",
              "      <th></th>\n",
              "      <th></th>\n",
              "      <th></th>\n",
              "      <th></th>\n",
              "    </tr>\n",
              "  </thead>\n",
              "  <tbody>\n",
              "    <tr>\n",
              "      <th>63581743</th>\n",
              "      <td>0</td>\n",
              "      <td>16MAR39</td>\n",
              "      <td>60.0</td>\n",
              "      <td>0</td>\n",
              "      <td>11.0</td>\n",
              "      <td>$67,349</td>\n",
              "      <td>No</td>\n",
              "      <td>$0</td>\n",
              "      <td>z_No</td>\n",
              "      <td>M</td>\n",
              "      <td>...</td>\n",
              "      <td>Minivan</td>\n",
              "      <td>yes</td>\n",
              "      <td>$4,461</td>\n",
              "      <td>2</td>\n",
              "      <td>No</td>\n",
              "      <td>3</td>\n",
              "      <td>$0</td>\n",
              "      <td>18.0</td>\n",
              "      <td>0</td>\n",
              "      <td>Highly Urban/ Urban</td>\n",
              "    </tr>\n",
              "    <tr>\n",
              "      <th>132761049</th>\n",
              "      <td>0</td>\n",
              "      <td>21JAN56</td>\n",
              "      <td>43.0</td>\n",
              "      <td>0</td>\n",
              "      <td>11.0</td>\n",
              "      <td>$91,449</td>\n",
              "      <td>No</td>\n",
              "      <td>$257,252</td>\n",
              "      <td>z_No</td>\n",
              "      <td>M</td>\n",
              "      <td>...</td>\n",
              "      <td>Minivan</td>\n",
              "      <td>yes</td>\n",
              "      <td>$0</td>\n",
              "      <td>0</td>\n",
              "      <td>No</td>\n",
              "      <td>0</td>\n",
              "      <td>$0</td>\n",
              "      <td>1.0</td>\n",
              "      <td>0</td>\n",
              "      <td>Highly Urban/ Urban</td>\n",
              "    </tr>\n",
              "    <tr>\n",
              "      <th>921317019</th>\n",
              "      <td>0</td>\n",
              "      <td>18NOV51</td>\n",
              "      <td>48.0</td>\n",
              "      <td>0</td>\n",
              "      <td>11.0</td>\n",
              "      <td>$52,881</td>\n",
              "      <td>No</td>\n",
              "      <td>$0</td>\n",
              "      <td>z_No</td>\n",
              "      <td>M</td>\n",
              "      <td>...</td>\n",
              "      <td>Van</td>\n",
              "      <td>yes</td>\n",
              "      <td>$0</td>\n",
              "      <td>0</td>\n",
              "      <td>No</td>\n",
              "      <td>2</td>\n",
              "      <td>$0</td>\n",
              "      <td>10.0</td>\n",
              "      <td>0</td>\n",
              "      <td>Highly Urban/ Urban</td>\n",
              "    </tr>\n",
              "    <tr>\n",
              "      <th>727598473</th>\n",
              "      <td>0</td>\n",
              "      <td>05MAR64</td>\n",
              "      <td>35.0</td>\n",
              "      <td>1</td>\n",
              "      <td>10.0</td>\n",
              "      <td>$16,039</td>\n",
              "      <td>No</td>\n",
              "      <td>$124,191</td>\n",
              "      <td>Yes</td>\n",
              "      <td>z_F</td>\n",
              "      <td>...</td>\n",
              "      <td>z_SUV</td>\n",
              "      <td>no</td>\n",
              "      <td>$38,690</td>\n",
              "      <td>2</td>\n",
              "      <td>No</td>\n",
              "      <td>3</td>\n",
              "      <td>$0</td>\n",
              "      <td>10.0</td>\n",
              "      <td>0</td>\n",
              "      <td>Highly Urban/ Urban</td>\n",
              "    </tr>\n",
              "    <tr>\n",
              "      <th>450221861</th>\n",
              "      <td>0</td>\n",
              "      <td>05JUN48</td>\n",
              "      <td>51.0</td>\n",
              "      <td>0</td>\n",
              "      <td>14.0</td>\n",
              "      <td>NaN</td>\n",
              "      <td>No</td>\n",
              "      <td>$306,251</td>\n",
              "      <td>Yes</td>\n",
              "      <td>M</td>\n",
              "      <td>...</td>\n",
              "      <td>Minivan</td>\n",
              "      <td>yes</td>\n",
              "      <td>$0</td>\n",
              "      <td>0</td>\n",
              "      <td>No</td>\n",
              "      <td>0</td>\n",
              "      <td>$0</td>\n",
              "      <td>6.0</td>\n",
              "      <td>0</td>\n",
              "      <td>Highly Urban/ Urban</td>\n",
              "    </tr>\n",
              "  </tbody>\n",
              "</table>\n",
              "<p>5 rows × 26 columns</p>\n",
              "</div>\n",
              "      <button class=\"colab-df-convert\" onclick=\"convertToInteractive('df-ebdcb319-09b4-4c4c-b553-25dc653164ba')\"\n",
              "              title=\"Convert this dataframe to an interactive table.\"\n",
              "              style=\"display:none;\">\n",
              "        \n",
              "  <svg xmlns=\"http://www.w3.org/2000/svg\" height=\"24px\"viewBox=\"0 0 24 24\"\n",
              "       width=\"24px\">\n",
              "    <path d=\"M0 0h24v24H0V0z\" fill=\"none\"/>\n",
              "    <path d=\"M18.56 5.44l.94 2.06.94-2.06 2.06-.94-2.06-.94-.94-2.06-.94 2.06-2.06.94zm-11 1L8.5 8.5l.94-2.06 2.06-.94-2.06-.94L8.5 2.5l-.94 2.06-2.06.94zm10 10l.94 2.06.94-2.06 2.06-.94-2.06-.94-.94-2.06-.94 2.06-2.06.94z\"/><path d=\"M17.41 7.96l-1.37-1.37c-.4-.4-.92-.59-1.43-.59-.52 0-1.04.2-1.43.59L10.3 9.45l-7.72 7.72c-.78.78-.78 2.05 0 2.83L4 21.41c.39.39.9.59 1.41.59.51 0 1.02-.2 1.41-.59l7.78-7.78 2.81-2.81c.8-.78.8-2.07 0-2.86zM5.41 20L4 18.59l7.72-7.72 1.47 1.35L5.41 20z\"/>\n",
              "  </svg>\n",
              "      </button>\n",
              "      \n",
              "  <style>\n",
              "    .colab-df-container {\n",
              "      display:flex;\n",
              "      flex-wrap:wrap;\n",
              "      gap: 12px;\n",
              "    }\n",
              "\n",
              "    .colab-df-convert {\n",
              "      background-color: #E8F0FE;\n",
              "      border: none;\n",
              "      border-radius: 50%;\n",
              "      cursor: pointer;\n",
              "      display: none;\n",
              "      fill: #1967D2;\n",
              "      height: 32px;\n",
              "      padding: 0 0 0 0;\n",
              "      width: 32px;\n",
              "    }\n",
              "\n",
              "    .colab-df-convert:hover {\n",
              "      background-color: #E2EBFA;\n",
              "      box-shadow: 0px 1px 2px rgba(60, 64, 67, 0.3), 0px 1px 3px 1px rgba(60, 64, 67, 0.15);\n",
              "      fill: #174EA6;\n",
              "    }\n",
              "\n",
              "    [theme=dark] .colab-df-convert {\n",
              "      background-color: #3B4455;\n",
              "      fill: #D2E3FC;\n",
              "    }\n",
              "\n",
              "    [theme=dark] .colab-df-convert:hover {\n",
              "      background-color: #434B5C;\n",
              "      box-shadow: 0px 1px 3px 1px rgba(0, 0, 0, 0.15);\n",
              "      filter: drop-shadow(0px 1px 2px rgba(0, 0, 0, 0.3));\n",
              "      fill: #FFFFFF;\n",
              "    }\n",
              "  </style>\n",
              "\n",
              "      <script>\n",
              "        const buttonEl =\n",
              "          document.querySelector('#df-ebdcb319-09b4-4c4c-b553-25dc653164ba button.colab-df-convert');\n",
              "        buttonEl.style.display =\n",
              "          google.colab.kernel.accessAllowed ? 'block' : 'none';\n",
              "\n",
              "        async function convertToInteractive(key) {\n",
              "          const element = document.querySelector('#df-ebdcb319-09b4-4c4c-b553-25dc653164ba');\n",
              "          const dataTable =\n",
              "            await google.colab.kernel.invokeFunction('convertToInteractive',\n",
              "                                                     [key], {});\n",
              "          if (!dataTable) return;\n",
              "\n",
              "          const docLinkHtml = 'Like what you see? Visit the ' +\n",
              "            '<a target=\"_blank\" href=https://colab.research.google.com/notebooks/data_table.ipynb>data table notebook</a>'\n",
              "            + ' to learn more about interactive tables.';\n",
              "          element.innerHTML = '';\n",
              "          dataTable['output_type'] = 'display_data';\n",
              "          await google.colab.output.renderOutput(dataTable, element);\n",
              "          const docLink = document.createElement('div');\n",
              "          docLink.innerHTML = docLinkHtml;\n",
              "          element.appendChild(docLink);\n",
              "        }\n",
              "      </script>\n",
              "    </div>\n",
              "  </div>\n",
              "  "
            ]
          },
          "metadata": {},
          "execution_count": 22
        }
      ]
    },
    {
      "cell_type": "code",
      "source": [
        "freqgraph=data.select_dtypes(include=['float','int'])\n",
        "freqgraph.hist(figsize=(20,15))\n",
        "plt.show()"
      ],
      "metadata": {
        "colab": {
          "base_uri": "https://localhost:8080/",
          "height": 899
        },
        "id": "oRpUmch6ESfM",
        "outputId": "b846c40f-c1f8-453e-994a-1bd1f62de8e8"
      },
      "execution_count": null,
      "outputs": [
        {
          "output_type": "display_data",
          "data": {
            "text/plain": [
              "<Figure size 1440x1080 with 12 Axes>"
            ],
            "image/png": "[encoded data removed]"
          },
          "metadata": {
            "needs_background": "light"
          }
        }
      ]
    },
    {
      "cell_type": "code",
      "source": [
        "plt.bar(data['GENDER'],data['CLAIM_FLAG']) # bivariate\n",
        "plt.show() # result shows that gender has no much role on claim flag"
      ],
      "metadata": {
        "colab": {
          "base_uri": "https://localhost:8080/",
          "height": 266
        },
        "id": "y85GfygiESkx",
        "outputId": "47456473-8d65-48d2-9b4e-a6cf57053910"
      },
      "execution_count": null,
      "outputs": [
        {
          "output_type": "display_data",
          "data": {
            "text/plain": [
              "<Figure size 432x288 with 1 Axes>"
            ],
            "image/png": "[encoded data removed]"
          },
          "metadata": {
            "needs_background": "light"
          }
        }
      ]
    },
    {
      "cell_type": "code",
      "source": [
        "plt.bar(data['AGE'],data['CLAIM_FLAG'])\n",
        "plt.show()"
      ],
      "metadata": {
        "colab": {
          "base_uri": "https://localhost:8080/",
          "height": 265
        },
        "id": "cm3HT9wAESm1",
        "outputId": "5fc847c1-2c08-4e3f-ee77-6f66b4374e9e"
      },
      "execution_count": null,
      "outputs": [
        {
          "output_type": "display_data",
          "data": {
            "text/plain": [
              "<Figure size 432x288 with 1 Axes>"
            ],
            "image/png": "[encoded data removed]"
          },
          "metadata": {
            "needs_background": "light"
          }
        }
      ]
    },
    {
      "cell_type": "code",
      "source": [
        "sns.histplot(data['AGE'],kde=True) #Univariate"
      ],
      "metadata": {
        "colab": {
          "base_uri": "https://localhost:8080/",
          "height": 297
        },
        "id": "PccLhYEhESqH",
        "outputId": "d58fc738-d22d-46b0-f85e-06048287a476"
      },
      "execution_count": null,
      "outputs": [
        {
          "output_type": "execute_result",
          "data": {
            "text/plain": [
              "<matplotlib.axes._subplots.AxesSubplot at 0x7fec01ccdf10>"
            ]
          },
          "metadata": {},
          "execution_count": 16
        },
        {
          "output_type": "display_data",
          "data": {
            "text/plain": [
              "<Figure size 432x288 with 1 Axes>"
            ],
            "image/png": "[encoded data removed]"
          },
          "metadata": {
            "needs_background": "light"
          }
        }
      ]
    },
    {
      "cell_type": "code",
      "source": [
        "sns.histplot(data['GENDER'],kde=True)"
      ],
      "metadata": {
        "colab": {
          "base_uri": "https://localhost:8080/",
          "height": 298
        },
        "id": "Q331eYi8ESsD",
        "outputId": "d955baf5-0fa5-4e09-f2ec-9154c96c57ae"
      },
      "execution_count": null,
      "outputs": [
        {
          "output_type": "execute_result",
          "data": {
            "text/plain": [
              "<matplotlib.axes._subplots.AxesSubplot at 0x7fec08fac670>"
            ]
          },
          "metadata": {},
          "execution_count": 17
        },
        {
          "output_type": "display_data",
          "data": {
            "text/plain": [
              "<Figure size 432x288 with 1 Axes>"
            ],
            "image/png": "[encoded data removed]"
          },
          "metadata": {
            "needs_background": "light"
          }
        }
      ]
    },
    {
      "cell_type": "code",
      "source": [
        "sns.pairplot(data[['GENDER','CLAIM_FLAG']])"
      ],
      "metadata": {
        "colab": {
          "base_uri": "https://localhost:8080/",
          "height": 215
        },
        "id": "p9S0j4IJES3z",
        "outputId": "07d386d5-eab3-4ec4-818a-847d95ad8042"
      },
      "execution_count": null,
      "outputs": [
        {
          "output_type": "execute_result",
          "data": {
            "text/plain": [
              "<seaborn.axisgrid.PairGrid at 0x7fec0dc07550>"
            ]
          },
          "metadata": {},
          "execution_count": 36
        },
        {
          "output_type": "display_data",
          "data": {
            "text/plain": [
              "<Figure size 180x180 with 2 Axes>"
            ],
            "image/png": "[encoded data removed]"
          },
          "metadata": {
            "needs_background": "light"
          }
        }
      ]
    },
    {
      "cell_type": "code",
      "source": [
        "from matplotlib.pyplot import figure  #  import data processing and visualization libraries\n",
        "import seaborn as sns\n",
        "import plotly.graph_objects as go\n",
        "%matplotlib inline"
      ],
      "metadata": {
        "id": "pN5v8X97ES7z"
      },
      "execution_count": null,
      "outputs": []
    },
    {
      "cell_type": "markdown",
      "source": [
        " CREATING A NEW COLOUMN CALLED REPEAT"
      ],
      "metadata": {
        "id": "Y7bh6jvhBYoZ"
      }
    },
    {
      "cell_type": "code",
      "source": [
        "\n",
        "# creating a new 'repeat offender' column: 1 if they have had 1 or more claims in the last 5 years, 0 if not.\n",
        "data['REPEAT'] = data.CLM_FREQ.apply(lambda x: 0 if x == 0 else 1)"
      ],
      "metadata": {
        "id": "LHTe1gC3BdCJ"
      },
      "execution_count": null,
      "outputs": []
    },
    {
      "cell_type": "code",
      "source": [
        "\n",
        "data.head(20)"
      ],
      "metadata": {
        "colab": {
          "base_uri": "https://localhost:8080/",
          "height": 1000
        },
        "id": "2PBojSLyBc0l",
        "outputId": "b80743b7-f25a-4413-edb3-bf2474d855b2"
      },
      "execution_count": null,
      "outputs": [
        {
          "output_type": "execute_result",
          "data": {
            "text/plain": [
              "           KIDSDRIV    BIRTH   AGE  HOMEKIDS   YOJ    INCOME PARENT1  \\\n",
              "ID                                                                     \n",
              "63581743          0  16MAR39  60.0         0  11.0   $67,349      No   \n",
              "132761049         0  21JAN56  43.0         0  11.0   $91,449      No   \n",
              "921317019         0  18NOV51  48.0         0  11.0   $52,881      No   \n",
              "727598473         0  05MAR64  35.0         1  10.0   $16,039      No   \n",
              "450221861         0  05JUN48  51.0         0  14.0       NaN      No   \n",
              "743146596         0  17MAY49  50.0         0   NaN  $114,986      No   \n",
              "871024631         0  05MAY65  34.0         1  12.0  $125,301     Yes   \n",
              "792300541         0  28FEB45  54.0         0   NaN   $18,755      No   \n",
              "7945239           1  17SEP59  40.0         1  11.0   $50,815     Yes   \n",
              "3577610           0  21AUG55  44.0         2  12.0   $43,486     Yes   \n",
              "892208080         1  14DEC61  37.0         2   NaN  $107,961      No   \n",
              "77382913          0  22NOV64  34.0         0  10.0   $62,978      No   \n",
              "856886560         0  22OCT49  50.0         0   7.0  $106,952      No   \n",
              "308455362         0  25DEC45  53.0         0  14.0   $77,100      No   \n",
              "989828809         0  19JUN56  43.0         0   5.0   $52,642      No   \n",
              "376482434         0  03MAR44  55.0         0  11.0   $59,162      No   \n",
              "665591504         0  19JUL46  53.0         0  11.0  $130,795      No   \n",
              "713692930         0  17AUG64  35.0         2   NaN   $21,204     Yes   \n",
              "588888550         0  17JAN54  45.0         0   0.0        $0      No   \n",
              "140015922         0  06AUG60  39.0         3  12.0   $51,884     Yes   \n",
              "\n",
              "           HOME_VAL MSTATUS GENDER  ... RED_CAR OLDCLAIM  CLM_FREQ REVOKED  \\\n",
              "ID                                  ...                                      \n",
              "63581743         $0    z_No      M  ...     yes   $4,461         2      No   \n",
              "132761049  $257,252    z_No      M  ...     yes       $0         0      No   \n",
              "921317019        $0    z_No      M  ...     yes       $0         0      No   \n",
              "727598473  $124,191     Yes    z_F  ...      no  $38,690         2      No   \n",
              "450221861  $306,251     Yes      M  ...     yes       $0         0      No   \n",
              "743146596  $243,925     Yes    z_F  ...      no  $19,217         2     Yes   \n",
              "871024631        $0    z_No    z_F  ...      no       $0         0      No   \n",
              "792300541       NaN     Yes    z_F  ...      no       $0         0      No   \n",
              "7945239          $0    z_No      M  ...      no   $3,295         1      No   \n",
              "3577610          $0    z_No    z_F  ...      no       $0         0      No   \n",
              "892208080  $333,680     Yes      M  ...     yes   $2,374         1     Yes   \n",
              "77382913         $0    z_No    z_F  ...      no       $0         0      No   \n",
              "856886560        $0    z_No      M  ...      no       $0         0      No   \n",
              "308455362        $0    z_No    z_F  ...      no       $0         0      No   \n",
              "989828809  $209,970     Yes    z_F  ...      no       $0         0      No   \n",
              "376482434  $180,232     Yes      M  ...     yes   $5,028         2     Yes   \n",
              "665591504        $0    z_No      M  ...     yes       $0         0      No   \n",
              "713692930        $0    z_No      M  ...      no       $0         0     Yes   \n",
              "588888550  $106,859     Yes    z_F  ...      no       $0         0      No   \n",
              "140015922  $180,951    z_No    z_F  ...      no       $0         0      No   \n",
              "\n",
              "          MVR_PTS  CLM_AMT CAR_AGE CLAIM_FLAG             URBANICITY  REPEAT  \n",
              "ID                                                                            \n",
              "63581743        3       $0    18.0          0    Highly Urban/ Urban       1  \n",
              "132761049       0       $0     1.0          0    Highly Urban/ Urban       0  \n",
              "921317019       2       $0    10.0          0    Highly Urban/ Urban       0  \n",
              "727598473       3       $0    10.0          0    Highly Urban/ Urban       1  \n",
              "450221861       0       $0     6.0          0    Highly Urban/ Urban       0  \n",
              "743146596       3       $0    17.0          0    Highly Urban/ Urban       1  \n",
              "871024631       0   $2,946     7.0          1    Highly Urban/ Urban       0  \n",
              "792300541       0       $0     1.0          0    Highly Urban/ Urban       0  \n",
              "7945239         2   $6,477     1.0          1    Highly Urban/ Urban       1  \n",
              "3577610         0       $0    10.0          0  z_Highly Rural/ Rural       0  \n",
              "892208080      10   $4,021     7.0          1    Highly Urban/ Urban       1  \n",
              "77382913        0   $2,501     1.0          1    Highly Urban/ Urban       0  \n",
              "856886560       1       $0    17.0          0  z_Highly Rural/ Rural       0  \n",
              "308455362       0   $6,077    11.0          1    Highly Urban/ Urban       0  \n",
              "989828809       0       $0     1.0          0  z_Highly Rural/ Rural       0  \n",
              "376482434       3       $0     9.0          0    Highly Urban/ Urban       1  \n",
              "665591504       3   $1,267    10.0          1    Highly Urban/ Urban       0  \n",
              "713692930       0       $0     4.0          0  z_Highly Rural/ Rural       0  \n",
              "588888550       3   $2,920     5.0          1    Highly Urban/ Urban       0  \n",
              "140015922       0       $0    13.0          0  z_Highly Rural/ Rural       0  \n",
              "\n",
              "[20 rows x 27 columns]"
            ],
            "text/html": [
              "\n",
              "  <div id=\"df-b40703f1-9303-407e-acbe-10750189c732\">\n",
              "    <div class=\"colab-df-container\">\n",
              "      <div>\n",
              "<style scoped>\n",
              "    .dataframe tbody tr th:only-of-type {\n",
              "        vertical-align: middle;\n",
              "    }\n",
              "\n",
              "    .dataframe tbody tr th {\n",
              "        vertical-align: top;\n",
              "    }\n",
              "\n",
              "    .dataframe thead th {\n",
              "        text-align: right;\n",
              "    }\n",
              "</style>\n",
              "<table border=\"1\" class=\"dataframe\">\n",
              "  <thead>\n",
              "    <tr style=\"text-align: right;\">\n",
              "      <th></th>\n",
              "      <th>KIDSDRIV</th>\n",
              "      <th>BIRTH</th>\n",
              "      <th>AGE</th>\n",
              "      <th>HOMEKIDS</th>\n",
              "      <th>YOJ</th>\n",
              "      <th>INCOME</th>\n",
              "      <th>PARENT1</th>\n",
              "      <th>HOME_VAL</th>\n",
              "      <th>MSTATUS</th>\n",
              "      <th>GENDER</th>\n",
              "      <th>...</th>\n",
              "      <th>RED_CAR</th>\n",
              "      <th>OLDCLAIM</th>\n",
              "      <th>CLM_FREQ</th>\n",
              "      <th>REVOKED</th>\n",
              "      <th>MVR_PTS</th>\n",
              "      <th>CLM_AMT</th>\n",
              "      <th>CAR_AGE</th>\n",
              "      <th>CLAIM_FLAG</th>\n",
              "      <th>URBANICITY</th>\n",
              "      <th>REPEAT</th>\n",
              "    </tr>\n",
              "    <tr>\n",
              "      <th>ID</th>\n",
              "      <th></th>\n",
              "      <th></th>\n",
              "      <th></th>\n",
              "      <th></th>\n",
              "      <th></th>\n",
              "      <th></th>\n",
              "      <th></th>\n",
              "      <th></th>\n",
              "      <th></th>\n",
              "      <th></th>\n",
              "      <th></th>\n",
              "      <th></th>\n",
              "      <th></th>\n",
              "      <th></th>\n",
              "      <th></th>\n",
              "      <th></th>\n",
              "      <th></th>\n",
              "      <th></th>\n",
              "      <th></th>\n",
              "      <th></th>\n",
              "      <th></th>\n",
              "    </tr>\n",
              "  </thead>\n",
              "  <tbody>\n",
              "    <tr>\n",
              "      <th>63581743</th>\n",
              "      <td>0</td>\n",
              "      <td>16MAR39</td>\n",
              "      <td>60.0</td>\n",
              "      <td>0</td>\n",
              "      <td>11.0</td>\n",
              "      <td>$67,349</td>\n",
              "      <td>No</td>\n",
              "      <td>$0</td>\n",
              "      <td>z_No</td>\n",
              "      <td>M</td>\n",
              "      <td>...</td>\n",
              "      <td>yes</td>\n",
              "      <td>$4,461</td>\n",
              "      <td>2</td>\n",
              "      <td>No</td>\n",
              "      <td>3</td>\n",
              "      <td>$0</td>\n",
              "      <td>18.0</td>\n",
              "      <td>0</td>\n",
              "      <td>Highly Urban/ Urban</td>\n",
              "      <td>1</td>\n",
              "    </tr>\n",
              "    <tr>\n",
              "      <th>132761049</th>\n",
              "      <td>0</td>\n",
              "      <td>21JAN56</td>\n",
              "      <td>43.0</td>\n",
              "      <td>0</td>\n",
              "      <td>11.0</td>\n",
              "      <td>$91,449</td>\n",
              "      <td>No</td>\n",
              "      <td>$257,252</td>\n",
              "      <td>z_No</td>\n",
              "      <td>M</td>\n",
              "      <td>...</td>\n",
              "      <td>yes</td>\n",
              "      <td>$0</td>\n",
              "      <td>0</td>\n",
              "      <td>No</td>\n",
              "      <td>0</td>\n",
              "      <td>$0</td>\n",
              "      <td>1.0</td>\n",
              "      <td>0</td>\n",
              "      <td>Highly Urban/ Urban</td>\n",
              "      <td>0</td>\n",
              "    </tr>\n",
              "    <tr>\n",
              "      <th>921317019</th>\n",
              "      <td>0</td>\n",
              "      <td>18NOV51</td>\n",
              "      <td>48.0</td>\n",
              "      <td>0</td>\n",
              "      <td>11.0</td>\n",
              "      <td>$52,881</td>\n",
              "      <td>No</td>\n",
              "      <td>$0</td>\n",
              "      <td>z_No</td>\n",
              "      <td>M</td>\n",
              "      <td>...</td>\n",
              "      <td>yes</td>\n",
              "      <td>$0</td>\n",
              "      <td>0</td>\n",
              "      <td>No</td>\n",
              "      <td>2</td>\n",
              "      <td>$0</td>\n",
              "      <td>10.0</td>\n",
              "      <td>0</td>\n",
              "      <td>Highly Urban/ Urban</td>\n",
              "      <td>0</td>\n",
              "    </tr>\n",
              "    <tr>\n",
              "      <th>727598473</th>\n",
              "      <td>0</td>\n",
              "      <td>05MAR64</td>\n",
              "      <td>35.0</td>\n",
              "      <td>1</td>\n",
              "      <td>10.0</td>\n",
              "      <td>$16,039</td>\n",
              "      <td>No</td>\n",
              "      <td>$124,191</td>\n",
              "      <td>Yes</td>\n",
              "      <td>z_F</td>\n",
              "      <td>...</td>\n",
              "      <td>no</td>\n",
              "      <td>$38,690</td>\n",
              "      <td>2</td>\n",
              "      <td>No</td>\n",
              "      <td>3</td>\n",
              "      <td>$0</td>\n",
              "      <td>10.0</td>\n",
              "      <td>0</td>\n",
              "      <td>Highly Urban/ Urban</td>\n",
              "      <td>1</td>\n",
              "    </tr>\n",
              "    <tr>\n",
              "      <th>450221861</th>\n",
              "      <td>0</td>\n",
              "      <td>05JUN48</td>\n",
              "      <td>51.0</td>\n",
              "      <td>0</td>\n",
              "      <td>14.0</td>\n",
              "      <td>NaN</td>\n",
              "      <td>No</td>\n",
              "      <td>$306,251</td>\n",
              "      <td>Yes</td>\n",
              "      <td>M</td>\n",
              "      <td>...</td>\n",
              "      <td>yes</td>\n",
              "      <td>$0</td>\n",
              "      <td>0</td>\n",
              "      <td>No</td>\n",
              "      <td>0</td>\n",
              "      <td>$0</td>\n",
              "      <td>6.0</td>\n",
              "      <td>0</td>\n",
              "      <td>Highly Urban/ Urban</td>\n",
              "      <td>0</td>\n",
              "    </tr>\n",
              "    <tr>\n",
              "      <th>743146596</th>\n",
              "      <td>0</td>\n",
              "      <td>17MAY49</td>\n",
              "      <td>50.0</td>\n",
              "      <td>0</td>\n",
              "      <td>NaN</td>\n",
              "      <td>$114,986</td>\n",
              "      <td>No</td>\n",
              "      <td>$243,925</td>\n",
              "      <td>Yes</td>\n",
              "      <td>z_F</td>\n",
              "      <td>...</td>\n",
              "      <td>no</td>\n",
              "      <td>$19,217</td>\n",
              "      <td>2</td>\n",
              "      <td>Yes</td>\n",
              "      <td>3</td>\n",
              "      <td>$0</td>\n",
              "      <td>17.0</td>\n",
              "      <td>0</td>\n",
              "      <td>Highly Urban/ Urban</td>\n",
              "      <td>1</td>\n",
              "    </tr>\n",
              "    <tr>\n",
              "      <th>871024631</th>\n",
              "      <td>0</td>\n",
              "      <td>05MAY65</td>\n",
              "      <td>34.0</td>\n",
              "      <td>1</td>\n",
              "      <td>12.0</td>\n",
              "      <td>$125,301</td>\n",
              "      <td>Yes</td>\n",
              "      <td>$0</td>\n",
              "      <td>z_No</td>\n",
              "      <td>z_F</td>\n",
              "      <td>...</td>\n",
              "      <td>no</td>\n",
              "      <td>$0</td>\n",
              "      <td>0</td>\n",
              "      <td>No</td>\n",
              "      <td>0</td>\n",
              "      <td>$2,946</td>\n",
              "      <td>7.0</td>\n",
              "      <td>1</td>\n",
              "      <td>Highly Urban/ Urban</td>\n",
              "      <td>0</td>\n",
              "    </tr>\n",
              "    <tr>\n",
              "      <th>792300541</th>\n",
              "      <td>0</td>\n",
              "      <td>28FEB45</td>\n",
              "      <td>54.0</td>\n",
              "      <td>0</td>\n",
              "      <td>NaN</td>\n",
              "      <td>$18,755</td>\n",
              "      <td>No</td>\n",
              "      <td>NaN</td>\n",
              "      <td>Yes</td>\n",
              "      <td>z_F</td>\n",
              "      <td>...</td>\n",
              "      <td>no</td>\n",
              "      <td>$0</td>\n",
              "      <td>0</td>\n",
              "      <td>No</td>\n",
              "      <td>0</td>\n",
              "      <td>$0</td>\n",
              "      <td>1.0</td>\n",
              "      <td>0</td>\n",
              "      <td>Highly Urban/ Urban</td>\n",
              "      <td>0</td>\n",
              "    </tr>\n",
              "    <tr>\n",
              "      <th>7945239</th>\n",
              "      <td>1</td>\n",
              "      <td>17SEP59</td>\n",
              "      <td>40.0</td>\n",
              "      <td>1</td>\n",
              "      <td>11.0</td>\n",
              "      <td>$50,815</td>\n",
              "      <td>Yes</td>\n",
              "      <td>$0</td>\n",
              "      <td>z_No</td>\n",
              "      <td>M</td>\n",
              "      <td>...</td>\n",
              "      <td>no</td>\n",
              "      <td>$3,295</td>\n",
              "      <td>1</td>\n",
              "      <td>No</td>\n",
              "      <td>2</td>\n",
              "      <td>$6,477</td>\n",
              "      <td>1.0</td>\n",
              "      <td>1</td>\n",
              "      <td>Highly Urban/ Urban</td>\n",
              "      <td>1</td>\n",
              "    </tr>\n",
              "    <tr>\n",
              "      <th>3577610</th>\n",
              "      <td>0</td>\n",
              "      <td>21AUG55</td>\n",
              "      <td>44.0</td>\n",
              "      <td>2</td>\n",
              "      <td>12.0</td>\n",
              "      <td>$43,486</td>\n",
              "      <td>Yes</td>\n",
              "      <td>$0</td>\n",
              "      <td>z_No</td>\n",
              "      <td>z_F</td>\n",
              "      <td>...</td>\n",
              "      <td>no</td>\n",
              "      <td>$0</td>\n",
              "      <td>0</td>\n",
              "      <td>No</td>\n",
              "      <td>0</td>\n",
              "      <td>$0</td>\n",
              "      <td>10.0</td>\n",
              "      <td>0</td>\n",
              "      <td>z_Highly Rural/ Rural</td>\n",
              "      <td>0</td>\n",
              "    </tr>\n",
              "    <tr>\n",
              "      <th>892208080</th>\n",
              "      <td>1</td>\n",
              "      <td>14DEC61</td>\n",
              "      <td>37.0</td>\n",
              "      <td>2</td>\n",
              "      <td>NaN</td>\n",
              "      <td>$107,961</td>\n",
              "      <td>No</td>\n",
              "      <td>$333,680</td>\n",
              "      <td>Yes</td>\n",
              "      <td>M</td>\n",
              "      <td>...</td>\n",
              "      <td>yes</td>\n",
              "      <td>$2,374</td>\n",
              "      <td>1</td>\n",
              "      <td>Yes</td>\n",
              "      <td>10</td>\n",
              "      <td>$4,021</td>\n",
              "      <td>7.0</td>\n",
              "      <td>1</td>\n",
              "      <td>Highly Urban/ Urban</td>\n",
              "      <td>1</td>\n",
              "    </tr>\n",
              "    <tr>\n",
              "      <th>77382913</th>\n",
              "      <td>0</td>\n",
              "      <td>22NOV64</td>\n",
              "      <td>34.0</td>\n",
              "      <td>0</td>\n",
              "      <td>10.0</td>\n",
              "      <td>$62,978</td>\n",
              "      <td>No</td>\n",
              "      <td>$0</td>\n",
              "      <td>z_No</td>\n",
              "      <td>z_F</td>\n",
              "      <td>...</td>\n",
              "      <td>no</td>\n",
              "      <td>$0</td>\n",
              "      <td>0</td>\n",
              "      <td>No</td>\n",
              "      <td>0</td>\n",
              "      <td>$2,501</td>\n",
              "      <td>1.0</td>\n",
              "      <td>1</td>\n",
              "      <td>Highly Urban/ Urban</td>\n",
              "      <td>0</td>\n",
              "    </tr>\n",
              "    <tr>\n",
              "      <th>856886560</th>\n",
              "      <td>0</td>\n",
              "      <td>22OCT49</td>\n",
              "      <td>50.0</td>\n",
              "      <td>0</td>\n",
              "      <td>7.0</td>\n",
              "      <td>$106,952</td>\n",
              "      <td>No</td>\n",
              "      <td>$0</td>\n",
              "      <td>z_No</td>\n",
              "      <td>M</td>\n",
              "      <td>...</td>\n",
              "      <td>no</td>\n",
              "      <td>$0</td>\n",
              "      <td>0</td>\n",
              "      <td>No</td>\n",
              "      <td>1</td>\n",
              "      <td>$0</td>\n",
              "      <td>17.0</td>\n",
              "      <td>0</td>\n",
              "      <td>z_Highly Rural/ Rural</td>\n",
              "      <td>0</td>\n",
              "    </tr>\n",
              "    <tr>\n",
              "      <th>308455362</th>\n",
              "      <td>0</td>\n",
              "      <td>25DEC45</td>\n",
              "      <td>53.0</td>\n",
              "      <td>0</td>\n",
              "      <td>14.0</td>\n",
              "      <td>$77,100</td>\n",
              "      <td>No</td>\n",
              "      <td>$0</td>\n",
              "      <td>z_No</td>\n",
              "      <td>z_F</td>\n",
              "      <td>...</td>\n",
              "      <td>no</td>\n",
              "      <td>$0</td>\n",
              "      <td>0</td>\n",
              "      <td>No</td>\n",
              "      <td>0</td>\n",
              "      <td>$6,077</td>\n",
              "      <td>11.0</td>\n",
              "      <td>1</td>\n",
              "      <td>Highly Urban/ Urban</td>\n",
              "      <td>0</td>\n",
              "    </tr>\n",
              "    <tr>\n",
              "      <th>989828809</th>\n",
              "      <td>0</td>\n",
              "      <td>19JUN56</td>\n",
              "      <td>43.0</td>\n",
              "      <td>0</td>\n",
              "      <td>5.0</td>\n",
              "      <td>$52,642</td>\n",
              "      <td>No</td>\n",
              "      <td>$209,970</td>\n",
              "      <td>Yes</td>\n",
              "      <td>z_F</td>\n",
              "      <td>...</td>\n",
              "      <td>no</td>\n",
              "      <td>$0</td>\n",
              "      <td>0</td>\n",
              "      <td>No</td>\n",
              "      <td>0</td>\n",
              "      <td>$0</td>\n",
              "      <td>1.0</td>\n",
              "      <td>0</td>\n",
              "      <td>z_Highly Rural/ Rural</td>\n",
              "      <td>0</td>\n",
              "    </tr>\n",
              "    <tr>\n",
              "      <th>376482434</th>\n",
              "      <td>0</td>\n",
              "      <td>03MAR44</td>\n",
              "      <td>55.0</td>\n",
              "      <td>0</td>\n",
              "      <td>11.0</td>\n",
              "      <td>$59,162</td>\n",
              "      <td>No</td>\n",
              "      <td>$180,232</td>\n",
              "      <td>Yes</td>\n",
              "      <td>M</td>\n",
              "      <td>...</td>\n",
              "      <td>yes</td>\n",
              "      <td>$5,028</td>\n",
              "      <td>2</td>\n",
              "      <td>Yes</td>\n",
              "      <td>3</td>\n",
              "      <td>$0</td>\n",
              "      <td>9.0</td>\n",
              "      <td>0</td>\n",
              "      <td>Highly Urban/ Urban</td>\n",
              "      <td>1</td>\n",
              "    </tr>\n",
              "    <tr>\n",
              "      <th>665591504</th>\n",
              "      <td>0</td>\n",
              "      <td>19JUL46</td>\n",
              "      <td>53.0</td>\n",
              "      <td>0</td>\n",
              "      <td>11.0</td>\n",
              "      <td>$130,795</td>\n",
              "      <td>No</td>\n",
              "      <td>$0</td>\n",
              "      <td>z_No</td>\n",
              "      <td>M</td>\n",
              "      <td>...</td>\n",
              "      <td>yes</td>\n",
              "      <td>$0</td>\n",
              "      <td>0</td>\n",
              "      <td>No</td>\n",
              "      <td>3</td>\n",
              "      <td>$1,267</td>\n",
              "      <td>10.0</td>\n",
              "      <td>1</td>\n",
              "      <td>Highly Urban/ Urban</td>\n",
              "      <td>0</td>\n",
              "    </tr>\n",
              "    <tr>\n",
              "      <th>713692930</th>\n",
              "      <td>0</td>\n",
              "      <td>17AUG64</td>\n",
              "      <td>35.0</td>\n",
              "      <td>2</td>\n",
              "      <td>NaN</td>\n",
              "      <td>$21,204</td>\n",
              "      <td>Yes</td>\n",
              "      <td>$0</td>\n",
              "      <td>z_No</td>\n",
              "      <td>M</td>\n",
              "      <td>...</td>\n",
              "      <td>no</td>\n",
              "      <td>$0</td>\n",
              "      <td>0</td>\n",
              "      <td>Yes</td>\n",
              "      <td>0</td>\n",
              "      <td>$0</td>\n",
              "      <td>4.0</td>\n",
              "      <td>0</td>\n",
              "      <td>z_Highly Rural/ Rural</td>\n",
              "      <td>0</td>\n",
              "    </tr>\n",
              "    <tr>\n",
              "      <th>588888550</th>\n",
              "      <td>0</td>\n",
              "      <td>17JAN54</td>\n",
              "      <td>45.0</td>\n",
              "      <td>0</td>\n",
              "      <td>0.0</td>\n",
              "      <td>$0</td>\n",
              "      <td>No</td>\n",
              "      <td>$106,859</td>\n",
              "      <td>Yes</td>\n",
              "      <td>z_F</td>\n",
              "      <td>...</td>\n",
              "      <td>no</td>\n",
              "      <td>$0</td>\n",
              "      <td>0</td>\n",
              "      <td>No</td>\n",
              "      <td>3</td>\n",
              "      <td>$2,920</td>\n",
              "      <td>5.0</td>\n",
              "      <td>1</td>\n",
              "      <td>Highly Urban/ Urban</td>\n",
              "      <td>0</td>\n",
              "    </tr>\n",
              "    <tr>\n",
              "      <th>140015922</th>\n",
              "      <td>0</td>\n",
              "      <td>06AUG60</td>\n",
              "      <td>39.0</td>\n",
              "      <td>3</td>\n",
              "      <td>12.0</td>\n",
              "      <td>$51,884</td>\n",
              "      <td>Yes</td>\n",
              "      <td>$180,951</td>\n",
              "      <td>z_No</td>\n",
              "      <td>z_F</td>\n",
              "      <td>...</td>\n",
              "      <td>no</td>\n",
              "      <td>$0</td>\n",
              "      <td>0</td>\n",
              "      <td>No</td>\n",
              "      <td>0</td>\n",
              "      <td>$0</td>\n",
              "      <td>13.0</td>\n",
              "      <td>0</td>\n",
              "      <td>z_Highly Rural/ Rural</td>\n",
              "      <td>0</td>\n",
              "    </tr>\n",
              "  </tbody>\n",
              "</table>\n",
              "<p>20 rows × 27 columns</p>\n",
              "</div>\n",
              "      <button class=\"colab-df-convert\" onclick=\"convertToInteractive('df-b40703f1-9303-407e-acbe-10750189c732')\"\n",
              "              title=\"Convert this dataframe to an interactive table.\"\n",
              "              style=\"display:none;\">\n",
              "        \n",
              "  <svg xmlns=\"http://www.w3.org/2000/svg\" height=\"24px\"viewBox=\"0 0 24 24\"\n",
              "       width=\"24px\">\n",
              "    <path d=\"M0 0h24v24H0V0z\" fill=\"none\"/>\n",
              "    <path d=\"M18.56 5.44l.94 2.06.94-2.06 2.06-.94-2.06-.94-.94-2.06-.94 2.06-2.06.94zm-11 1L8.5 8.5l.94-2.06 2.06-.94-2.06-.94L8.5 2.5l-.94 2.06-2.06.94zm10 10l.94 2.06.94-2.06 2.06-.94-2.06-.94-.94-2.06-.94 2.06-2.06.94z\"/><path d=\"M17.41 7.96l-1.37-1.37c-.4-.4-.92-.59-1.43-.59-.52 0-1.04.2-1.43.59L10.3 9.45l-7.72 7.72c-.78.78-.78 2.05 0 2.83L4 21.41c.39.39.9.59 1.41.59.51 0 1.02-.2 1.41-.59l7.78-7.78 2.81-2.81c.8-.78.8-2.07 0-2.86zM5.41 20L4 18.59l7.72-7.72 1.47 1.35L5.41 20z\"/>\n",
              "  </svg>\n",
              "      </button>\n",
              "      \n",
              "  <style>\n",
              "    .colab-df-container {\n",
              "      display:flex;\n",
              "      flex-wrap:wrap;\n",
              "      gap: 12px;\n",
              "    }\n",
              "\n",
              "    .colab-df-convert {\n",
              "      background-color: #E8F0FE;\n",
              "      border: none;\n",
              "      border-radius: 50%;\n",
              "      cursor: pointer;\n",
              "      display: none;\n",
              "      fill: #1967D2;\n",
              "      height: 32px;\n",
              "      padding: 0 0 0 0;\n",
              "      width: 32px;\n",
              "    }\n",
              "\n",
              "    .colab-df-convert:hover {\n",
              "      background-color: #E2EBFA;\n",
              "      box-shadow: 0px 1px 2px rgba(60, 64, 67, 0.3), 0px 1px 3px 1px rgba(60, 64, 67, 0.15);\n",
              "      fill: #174EA6;\n",
              "    }\n",
              "\n",
              "    [theme=dark] .colab-df-convert {\n",
              "      background-color: #3B4455;\n",
              "      fill: #D2E3FC;\n",
              "    }\n",
              "\n",
              "    [theme=dark] .colab-df-convert:hover {\n",
              "      background-color: #434B5C;\n",
              "      box-shadow: 0px 1px 3px 1px rgba(0, 0, 0, 0.15);\n",
              "      filter: drop-shadow(0px 1px 2px rgba(0, 0, 0, 0.3));\n",
              "      fill: #FFFFFF;\n",
              "    }\n",
              "  </style>\n",
              "\n",
              "      <script>\n",
              "        const buttonEl =\n",
              "          document.querySelector('#df-b40703f1-9303-407e-acbe-10750189c732 button.colab-df-convert');\n",
              "        buttonEl.style.display =\n",
              "          google.colab.kernel.accessAllowed ? 'block' : 'none';\n",
              "\n",
              "        async function convertToInteractive(key) {\n",
              "          const element = document.querySelector('#df-b40703f1-9303-407e-acbe-10750189c732');\n",
              "          const dataTable =\n",
              "            await google.colab.kernel.invokeFunction('convertToInteractive',\n",
              "                                                     [key], {});\n",
              "          if (!dataTable) return;\n",
              "\n",
              "          const docLinkHtml = 'Like what you see? Visit the ' +\n",
              "            '<a target=\"_blank\" href=https://colab.research.google.com/notebooks/data_table.ipynb>data table notebook</a>'\n",
              "            + ' to learn more about interactive tables.';\n",
              "          element.innerHTML = '';\n",
              "          dataTable['output_type'] = 'display_data';\n",
              "          await google.colab.output.renderOutput(dataTable, element);\n",
              "          const docLink = document.createElement('div');\n",
              "          docLink.innerHTML = docLinkHtml;\n",
              "          element.appendChild(docLink);\n",
              "        }\n",
              "      </script>\n",
              "    </div>\n",
              "  </div>\n",
              "  "
            ]
          },
          "metadata": {},
          "execution_count": 25
        }
      ]
    },
    {
      "cell_type": "code",
      "source": [
        "# overview of datatypes in each column\n",
        "data.dtypes"
      ],
      "metadata": {
        "id": "ImoUjCrQES93",
        "colab": {
          "base_uri": "https://localhost:8080/"
        },
        "outputId": "33d816e1-c1d8-4871-abcc-0cc6ce00e423"
      },
      "execution_count": null,
      "outputs": [
        {
          "output_type": "execute_result",
          "data": {
            "text/plain": [
              "KIDSDRIV        int64\n",
              "BIRTH          object\n",
              "AGE           float64\n",
              "HOMEKIDS        int64\n",
              "YOJ           float64\n",
              "INCOME         object\n",
              "PARENT1        object\n",
              "HOME_VAL       object\n",
              "MSTATUS        object\n",
              "GENDER         object\n",
              "EDUCATION      object\n",
              "OCCUPATION     object\n",
              "TRAVTIME        int64\n",
              "CAR_USE        object\n",
              "BLUEBOOK       object\n",
              "TIF             int64\n",
              "CAR_TYPE       object\n",
              "RED_CAR        object\n",
              "OLDCLAIM       object\n",
              "CLM_FREQ        int64\n",
              "REVOKED        object\n",
              "MVR_PTS         int64\n",
              "CLM_AMT        object\n",
              "CAR_AGE       float64\n",
              "CLAIM_FLAG      int64\n",
              "URBANICITY     object\n",
              "REPEAT          int64\n",
              "dtype: object"
            ]
          },
          "metadata": {},
          "execution_count": 26
        }
      ]
    },
    {
      "cell_type": "markdown",
      "source": [
        "As we can see above, there are some columns which should be represented numerically but are currently in string form. It is required to convert the contents of those columns to numeric so that those are in the correct form for analysis later. In this dataset, these columns seem to be all of the variables represented by dollar values. These columns are: income, home value, bluebook value, claim amount, and old claim (payouts, last 5 years).A function called to_numeric is created which will take care of this."
      ],
      "metadata": {
        "id": "-mS8BQgnB6kF"
      }
    },
    {
      "cell_type": "code",
      "source": [
        "# Here we takes a list of column names and a data and performs the following, in place, on the dataframe (doesn't return anything):\n",
        "# converts to string to prevent any type errors\n",
        "# removes dollar signs and comma from dollar values\n",
        "# converts result to numeric using pandas\n",
        "def to_numeric(list_of_columns, data=data):  # In Python, defining the function works as follows. def is the keyword for defining a function.\n",
        "    for i in list_of_columns:\n",
        "        data[i] = data[i].astype(str)\n",
        "        data[i] = data[i].apply(lambda x: x.replace('$','')).apply(lambda x: x.replace(',',''))\n",
        "        data[i] = pd.to_numeric(data[i], errors = 'coerce') # errors : {‘ignore’, ‘raise’, ‘coerce’}, default ‘raise’\n",
        "#-> If ‘raise’, then invalid parsing will raise an exception\n",
        "#-> If ‘coerce’, then invalid parsing will be set as NaN\n",
        "#-> If ‘ignore’, then invalid parsing will return the input"
      ],
      "metadata": {
        "id": "mYNWRIp7ETB6"
      },
      "execution_count": null,
      "outputs": []
    },
    {
      "cell_type": "code",
      "source": [
        "\n",
        "list_of_cols = ['INCOME', 'HOME_VAL', 'BLUEBOOK', 'CLM_AMT', 'OLDCLAIM']\n",
        "to_numeric(list_of_cols)"
      ],
      "metadata": {
        "id": "oFEfcfHFETD8"
      },
      "execution_count": null,
      "outputs": []
    },
    {
      "cell_type": "code",
      "source": [
        "data[list_of_cols].dtypes"
      ],
      "metadata": {
        "id": "ai7fCR_8ETIW",
        "colab": {
          "base_uri": "https://localhost:8080/"
        },
        "outputId": "0b331f81-1618-4e5a-f043-7bfc89dd88a6"
      },
      "execution_count": null,
      "outputs": [
        {
          "output_type": "execute_result",
          "data": {
            "text/plain": [
              "INCOME      float64\n",
              "HOME_VAL    float64\n",
              "BLUEBOOK      int64\n",
              "CLM_AMT       int64\n",
              "OLDCLAIM      int64\n",
              "dtype: object"
            ]
          },
          "metadata": {},
          "execution_count": 29
        }
      ]
    },
    {
      "cell_type": "markdown",
      "source": [
        "The 5 columns were converted to numeric datatypes and are ready for analysis later."
      ],
      "metadata": {
        "id": "wbdL1eEMCs_Y"
      }
    },
    {
      "cell_type": "markdown",
      "source": [
        "Cleaning some of the columns that have 'z_' before their data (Education column above, for example).There is also 1 value in each of the following columns with the 'z_' suffix, so replacing each of those values with the proper value using lambda functions."
      ],
      "metadata": {
        "id": "GKoH21PKD1DU"
      }
    },
    {
      "cell_type": "code",
      "source": [
        "data.MSTATUS = data.MSTATUS.apply(lambda x: 'No' if x == 'z_No' else x)\n",
        "data.GENDER = data.GENDER.apply(lambda x: 'F' if x == 'z_F' else x)\n",
        "data.EDUCATION = data.EDUCATION.apply(lambda x: 'High School' if x == 'z_High School' else x)\n",
        "data.OCCUPATION = data.OCCUPATION.apply(lambda x: 'Blue Collar' if x == 'z_Blue Collar' else x)\n",
        "data.CAR_TYPE = data.CAR_TYPE.apply(lambda x: 'SUV' if x == 'z_SUV' else x)\n",
        "data.URBANICITY = data.URBANICITY.apply(lambda x: 'Highly Rural/ Rural' if x == 'z_Highly Rural/ Rural' else x)"
      ],
      "metadata": {
        "id": "PfzFCPgkETcW"
      },
      "execution_count": null,
      "outputs": []
    },
    {
      "cell_type": "code",
      "source": [
        "data"
      ],
      "metadata": {
        "id": "XLW8lQDdETeI",
        "colab": {
          "base_uri": "https://localhost:8080/",
          "height": 848
        },
        "outputId": "5ff0b2c8-95e3-482c-8c45-a0f23256351b"
      },
      "execution_count": null,
      "outputs": [
        {
          "output_type": "execute_result",
          "data": {
            "text/plain": [
              "           KIDSDRIV    BIRTH   AGE  HOMEKIDS   YOJ    INCOME PARENT1  \\\n",
              "ID                                                                     \n",
              "63581743          0  16MAR39  60.0         0  11.0   67349.0      No   \n",
              "132761049         0  21JAN56  43.0         0  11.0   91449.0      No   \n",
              "921317019         0  18NOV51  48.0         0  11.0   52881.0      No   \n",
              "727598473         0  05MAR64  35.0         1  10.0   16039.0      No   \n",
              "450221861         0  05JUN48  51.0         0  14.0       NaN      No   \n",
              "...             ...      ...   ...       ...   ...       ...     ...   \n",
              "67790126          1  13AUG54  45.0         2   9.0  164669.0      No   \n",
              "61970712          0  17JUN53  46.0         0   9.0  107204.0      No   \n",
              "849208064         0  18JUN51  48.0         0  15.0   39837.0      No   \n",
              "627828331         0  12DEC48  50.0         0   7.0   43445.0      No   \n",
              "680381960         0  27FEB47  52.0         0  11.0   53235.0      No   \n",
              "\n",
              "           HOME_VAL MSTATUS GENDER  ... RED_CAR OLDCLAIM  CLM_FREQ REVOKED  \\\n",
              "ID                                  ...                                      \n",
              "63581743        0.0      No      M  ...     yes     4461         2      No   \n",
              "132761049  257252.0      No      M  ...     yes        0         0      No   \n",
              "921317019       0.0      No      M  ...     yes        0         0      No   \n",
              "727598473  124191.0     Yes      F  ...      no    38690         2      No   \n",
              "450221861  306251.0     Yes      M  ...     yes        0         0      No   \n",
              "...             ...     ...    ...  ...     ...      ...       ...     ...   \n",
              "67790126   386273.0     Yes      M  ...      no        0         0      No   \n",
              "61970712   332591.0     Yes      M  ...      no        0         0      No   \n",
              "849208064  170611.0     Yes      F  ...      no        0         0      No   \n",
              "627828331  149248.0     Yes      F  ...      no        0         0      No   \n",
              "680381960  197017.0     Yes      F  ...      no        0         0      No   \n",
              "\n",
              "           MVR_PTS  CLM_AMT CAR_AGE CLAIM_FLAG           URBANICITY  REPEAT  \n",
              "ID                                                                           \n",
              "63581743         3        0    18.0          0  Highly Urban/ Urban       1  \n",
              "132761049        0        0     1.0          0  Highly Urban/ Urban       0  \n",
              "921317019        2        0    10.0          0  Highly Urban/ Urban       0  \n",
              "727598473        3        0    10.0          0  Highly Urban/ Urban       1  \n",
              "450221861        0        0     6.0          0  Highly Urban/ Urban       0  \n",
              "...            ...      ...     ...        ...                  ...     ...  \n",
              "67790126         2        0    17.0          0  Highly Urban/ Urban       0  \n",
              "61970712         0        0     1.0          0  Highly Urban/ Urban       0  \n",
              "849208064        0        0     1.0          0  Highly Urban/ Urban       0  \n",
              "627828331        0        0    11.0          0  Highly Urban/ Urban       0  \n",
              "680381960        0        0     9.0          0  Highly Rural/ Rural       0  \n",
              "\n",
              "[10302 rows x 27 columns]"
            ],
            "text/html": [
              "\n",
              "  <div id=\"df-e76e9772-db94-4a59-98d1-cadb18c3cf72\">\n",
              "    <div class=\"colab-df-container\">\n",
              "      <div>\n",
              "<style scoped>\n",
              "    .dataframe tbody tr th:only-of-type {\n",
              "        vertical-align: middle;\n",
              "    }\n",
              "\n",
              "    .dataframe tbody tr th {\n",
              "        vertical-align: top;\n",
              "    }\n",
              "\n",
              "    .dataframe thead th {\n",
              "        text-align: right;\n",
              "    }\n",
              "</style>\n",
              "<table border=\"1\" class=\"dataframe\">\n",
              "  <thead>\n",
              "    <tr style=\"text-align: right;\">\n",
              "      <th></th>\n",
              "      <th>KIDSDRIV</th>\n",
              "      <th>BIRTH</th>\n",
              "      <th>AGE</th>\n",
              "      <th>HOMEKIDS</th>\n",
              "      <th>YOJ</th>\n",
              "      <th>INCOME</th>\n",
              "      <th>PARENT1</th>\n",
              "      <th>HOME_VAL</th>\n",
              "      <th>MSTATUS</th>\n",
              "      <th>GENDER</th>\n",
              "      <th>...</th>\n",
              "      <th>RED_CAR</th>\n",
              "      <th>OLDCLAIM</th>\n",
              "      <th>CLM_FREQ</th>\n",
              "      <th>REVOKED</th>\n",
              "      <th>MVR_PTS</th>\n",
              "      <th>CLM_AMT</th>\n",
              "      <th>CAR_AGE</th>\n",
              "      <th>CLAIM_FLAG</th>\n",
              "      <th>URBANICITY</th>\n",
              "      <th>REPEAT</th>\n",
              "    </tr>\n",
              "    <tr>\n",
              "      <th>ID</th>\n",
              "      <th></th>\n",
              "      <th></th>\n",
              "      <th></th>\n",
              "      <th></th>\n",
              "      <th></th>\n",
              "      <th></th>\n",
              "      <th></th>\n",
              "      <th></th>\n",
              "      <th></th>\n",
              "      <th></th>\n",
              "      <th></th>\n",
              "      <th></th>\n",
              "      <th></th>\n",
              "      <th></th>\n",
              "      <th></th>\n",
              "      <th></th>\n",
              "      <th></th>\n",
              "      <th></th>\n",
              "      <th></th>\n",
              "      <th></th>\n",
              "      <th></th>\n",
              "    </tr>\n",
              "  </thead>\n",
              "  <tbody>\n",
              "    <tr>\n",
              "      <th>63581743</th>\n",
              "      <td>0</td>\n",
              "      <td>16MAR39</td>\n",
              "      <td>60.0</td>\n",
              "      <td>0</td>\n",
              "      <td>11.0</td>\n",
              "      <td>67349.0</td>\n",
              "      <td>No</td>\n",
              "      <td>0.0</td>\n",
              "      <td>No</td>\n",
              "      <td>M</td>\n",
              "      <td>...</td>\n",
              "      <td>yes</td>\n",
              "      <td>4461</td>\n",
              "      <td>2</td>\n",
              "      <td>No</td>\n",
              "      <td>3</td>\n",
              "      <td>0</td>\n",
              "      <td>18.0</td>\n",
              "      <td>0</td>\n",
              "      <td>Highly Urban/ Urban</td>\n",
              "      <td>1</td>\n",
              "    </tr>\n",
              "    <tr>\n",
              "      <th>132761049</th>\n",
              "      <td>0</td>\n",
              "      <td>21JAN56</td>\n",
              "      <td>43.0</td>\n",
              "      <td>0</td>\n",
              "      <td>11.0</td>\n",
              "      <td>91449.0</td>\n",
              "      <td>No</td>\n",
              "      <td>257252.0</td>\n",
              "      <td>No</td>\n",
              "      <td>M</td>\n",
              "      <td>...</td>\n",
              "      <td>yes</td>\n",
              "      <td>0</td>\n",
              "      <td>0</td>\n",
              "      <td>No</td>\n",
              "      <td>0</td>\n",
              "      <td>0</td>\n",
              "      <td>1.0</td>\n",
              "      <td>0</td>\n",
              "      <td>Highly Urban/ Urban</td>\n",
              "      <td>0</td>\n",
              "    </tr>\n",
              "    <tr>\n",
              "      <th>921317019</th>\n",
              "      <td>0</td>\n",
              "      <td>18NOV51</td>\n",
              "      <td>48.0</td>\n",
              "      <td>0</td>\n",
              "      <td>11.0</td>\n",
              "      <td>52881.0</td>\n",
              "      <td>No</td>\n",
              "      <td>0.0</td>\n",
              "      <td>No</td>\n",
              "      <td>M</td>\n",
              "      <td>...</td>\n",
              "      <td>yes</td>\n",
              "      <td>0</td>\n",
              "      <td>0</td>\n",
              "      <td>No</td>\n",
              "      <td>2</td>\n",
              "      <td>0</td>\n",
              "      <td>10.0</td>\n",
              "      <td>0</td>\n",
              "      <td>Highly Urban/ Urban</td>\n",
              "      <td>0</td>\n",
              "    </tr>\n",
              "    <tr>\n",
              "      <th>727598473</th>\n",
              "      <td>0</td>\n",
              "      <td>05MAR64</td>\n",
              "      <td>35.0</td>\n",
              "      <td>1</td>\n",
              "      <td>10.0</td>\n",
              "      <td>16039.0</td>\n",
              "      <td>No</td>\n",
              "      <td>124191.0</td>\n",
              "      <td>Yes</td>\n",
              "      <td>F</td>\n",
              "      <td>...</td>\n",
              "      <td>no</td>\n",
              "      <td>38690</td>\n",
              "      <td>2</td>\n",
              "      <td>No</td>\n",
              "      <td>3</td>\n",
              "      <td>0</td>\n",
              "      <td>10.0</td>\n",
              "      <td>0</td>\n",
              "      <td>Highly Urban/ Urban</td>\n",
              "      <td>1</td>\n",
              "    </tr>\n",
              "    <tr>\n",
              "      <th>450221861</th>\n",
              "      <td>0</td>\n",
              "      <td>05JUN48</td>\n",
              "      <td>51.0</td>\n",
              "      <td>0</td>\n",
              "      <td>14.0</td>\n",
              "      <td>NaN</td>\n",
              "      <td>No</td>\n",
              "      <td>306251.0</td>\n",
              "      <td>Yes</td>\n",
              "      <td>M</td>\n",
              "      <td>...</td>\n",
              "      <td>yes</td>\n",
              "      <td>0</td>\n",
              "      <td>0</td>\n",
              "      <td>No</td>\n",
              "      <td>0</td>\n",
              "      <td>0</td>\n",
              "      <td>6.0</td>\n",
              "      <td>0</td>\n",
              "      <td>Highly Urban/ Urban</td>\n",
              "      <td>0</td>\n",
              "    </tr>\n",
              "    <tr>\n",
              "      <th>...</th>\n",
              "      <td>...</td>\n",
              "      <td>...</td>\n",
              "      <td>...</td>\n",
              "      <td>...</td>\n",
              "      <td>...</td>\n",
              "      <td>...</td>\n",
              "      <td>...</td>\n",
              "      <td>...</td>\n",
              "      <td>...</td>\n",
              "      <td>...</td>\n",
              "      <td>...</td>\n",
              "      <td>...</td>\n",
              "      <td>...</td>\n",
              "      <td>...</td>\n",
              "      <td>...</td>\n",
              "      <td>...</td>\n",
              "      <td>...</td>\n",
              "      <td>...</td>\n",
              "      <td>...</td>\n",
              "      <td>...</td>\n",
              "      <td>...</td>\n",
              "    </tr>\n",
              "    <tr>\n",
              "      <th>67790126</th>\n",
              "      <td>1</td>\n",
              "      <td>13AUG54</td>\n",
              "      <td>45.0</td>\n",
              "      <td>2</td>\n",
              "      <td>9.0</td>\n",
              "      <td>164669.0</td>\n",
              "      <td>No</td>\n",
              "      <td>386273.0</td>\n",
              "      <td>Yes</td>\n",
              "      <td>M</td>\n",
              "      <td>...</td>\n",
              "      <td>no</td>\n",
              "      <td>0</td>\n",
              "      <td>0</td>\n",
              "      <td>No</td>\n",
              "      <td>2</td>\n",
              "      <td>0</td>\n",
              "      <td>17.0</td>\n",
              "      <td>0</td>\n",
              "      <td>Highly Urban/ Urban</td>\n",
              "      <td>0</td>\n",
              "    </tr>\n",
              "    <tr>\n",
              "      <th>61970712</th>\n",
              "      <td>0</td>\n",
              "      <td>17JUN53</td>\n",
              "      <td>46.0</td>\n",
              "      <td>0</td>\n",
              "      <td>9.0</td>\n",
              "      <td>107204.0</td>\n",
              "      <td>No</td>\n",
              "      <td>332591.0</td>\n",
              "      <td>Yes</td>\n",
              "      <td>M</td>\n",
              "      <td>...</td>\n",
              "      <td>no</td>\n",
              "      <td>0</td>\n",
              "      <td>0</td>\n",
              "      <td>No</td>\n",
              "      <td>0</td>\n",
              "      <td>0</td>\n",
              "      <td>1.0</td>\n",
              "      <td>0</td>\n",
              "      <td>Highly Urban/ Urban</td>\n",
              "      <td>0</td>\n",
              "    </tr>\n",
              "    <tr>\n",
              "      <th>849208064</th>\n",
              "      <td>0</td>\n",
              "      <td>18JUN51</td>\n",
              "      <td>48.0</td>\n",
              "      <td>0</td>\n",
              "      <td>15.0</td>\n",
              "      <td>39837.0</td>\n",
              "      <td>No</td>\n",
              "      <td>170611.0</td>\n",
              "      <td>Yes</td>\n",
              "      <td>F</td>\n",
              "      <td>...</td>\n",
              "      <td>no</td>\n",
              "      <td>0</td>\n",
              "      <td>0</td>\n",
              "      <td>No</td>\n",
              "      <td>0</td>\n",
              "      <td>0</td>\n",
              "      <td>1.0</td>\n",
              "      <td>0</td>\n",
              "      <td>Highly Urban/ Urban</td>\n",
              "      <td>0</td>\n",
              "    </tr>\n",
              "    <tr>\n",
              "      <th>627828331</th>\n",
              "      <td>0</td>\n",
              "      <td>12DEC48</td>\n",
              "      <td>50.0</td>\n",
              "      <td>0</td>\n",
              "      <td>7.0</td>\n",
              "      <td>43445.0</td>\n",
              "      <td>No</td>\n",
              "      <td>149248.0</td>\n",
              "      <td>Yes</td>\n",
              "      <td>F</td>\n",
              "      <td>...</td>\n",
              "      <td>no</td>\n",
              "      <td>0</td>\n",
              "      <td>0</td>\n",
              "      <td>No</td>\n",
              "      <td>0</td>\n",
              "      <td>0</td>\n",
              "      <td>11.0</td>\n",
              "      <td>0</td>\n",
              "      <td>Highly Urban/ Urban</td>\n",
              "      <td>0</td>\n",
              "    </tr>\n",
              "    <tr>\n",
              "      <th>680381960</th>\n",
              "      <td>0</td>\n",
              "      <td>27FEB47</td>\n",
              "      <td>52.0</td>\n",
              "      <td>0</td>\n",
              "      <td>11.0</td>\n",
              "      <td>53235.0</td>\n",
              "      <td>No</td>\n",
              "      <td>197017.0</td>\n",
              "      <td>Yes</td>\n",
              "      <td>F</td>\n",
              "      <td>...</td>\n",
              "      <td>no</td>\n",
              "      <td>0</td>\n",
              "      <td>0</td>\n",
              "      <td>No</td>\n",
              "      <td>0</td>\n",
              "      <td>0</td>\n",
              "      <td>9.0</td>\n",
              "      <td>0</td>\n",
              "      <td>Highly Rural/ Rural</td>\n",
              "      <td>0</td>\n",
              "    </tr>\n",
              "  </tbody>\n",
              "</table>\n",
              "<p>10302 rows × 27 columns</p>\n",
              "</div>\n",
              "      <button class=\"colab-df-convert\" onclick=\"convertToInteractive('df-e76e9772-db94-4a59-98d1-cadb18c3cf72')\"\n",
              "              title=\"Convert this dataframe to an interactive table.\"\n",
              "              style=\"display:none;\">\n",
              "        \n",
              "  <svg xmlns=\"http://www.w3.org/2000/svg\" height=\"24px\"viewBox=\"0 0 24 24\"\n",
              "       width=\"24px\">\n",
              "    <path d=\"M0 0h24v24H0V0z\" fill=\"none\"/>\n",
              "    <path d=\"M18.56 5.44l.94 2.06.94-2.06 2.06-.94-2.06-.94-.94-2.06-.94 2.06-2.06.94zm-11 1L8.5 8.5l.94-2.06 2.06-.94-2.06-.94L8.5 2.5l-.94 2.06-2.06.94zm10 10l.94 2.06.94-2.06 2.06-.94-2.06-.94-.94-2.06-.94 2.06-2.06.94z\"/><path d=\"M17.41 7.96l-1.37-1.37c-.4-.4-.92-.59-1.43-.59-.52 0-1.04.2-1.43.59L10.3 9.45l-7.72 7.72c-.78.78-.78 2.05 0 2.83L4 21.41c.39.39.9.59 1.41.59.51 0 1.02-.2 1.41-.59l7.78-7.78 2.81-2.81c.8-.78.8-2.07 0-2.86zM5.41 20L4 18.59l7.72-7.72 1.47 1.35L5.41 20z\"/>\n",
              "  </svg>\n",
              "      </button>\n",
              "      \n",
              "  <style>\n",
              "    .colab-df-container {\n",
              "      display:flex;\n",
              "      flex-wrap:wrap;\n",
              "      gap: 12px;\n",
              "    }\n",
              "\n",
              "    .colab-df-convert {\n",
              "      background-color: #E8F0FE;\n",
              "      border: none;\n",
              "      border-radius: 50%;\n",
              "      cursor: pointer;\n",
              "      display: none;\n",
              "      fill: #1967D2;\n",
              "      height: 32px;\n",
              "      padding: 0 0 0 0;\n",
              "      width: 32px;\n",
              "    }\n",
              "\n",
              "    .colab-df-convert:hover {\n",
              "      background-color: #E2EBFA;\n",
              "      box-shadow: 0px 1px 2px rgba(60, 64, 67, 0.3), 0px 1px 3px 1px rgba(60, 64, 67, 0.15);\n",
              "      fill: #174EA6;\n",
              "    }\n",
              "\n",
              "    [theme=dark] .colab-df-convert {\n",
              "      background-color: #3B4455;\n",
              "      fill: #D2E3FC;\n",
              "    }\n",
              "\n",
              "    [theme=dark] .colab-df-convert:hover {\n",
              "      background-color: #434B5C;\n",
              "      box-shadow: 0px 1px 3px 1px rgba(0, 0, 0, 0.15);\n",
              "      filter: drop-shadow(0px 1px 2px rgba(0, 0, 0, 0.3));\n",
              "      fill: #FFFFFF;\n",
              "    }\n",
              "  </style>\n",
              "\n",
              "      <script>\n",
              "        const buttonEl =\n",
              "          document.querySelector('#df-e76e9772-db94-4a59-98d1-cadb18c3cf72 button.colab-df-convert');\n",
              "        buttonEl.style.display =\n",
              "          google.colab.kernel.accessAllowed ? 'block' : 'none';\n",
              "\n",
              "        async function convertToInteractive(key) {\n",
              "          const element = document.querySelector('#df-e76e9772-db94-4a59-98d1-cadb18c3cf72');\n",
              "          const dataTable =\n",
              "            await google.colab.kernel.invokeFunction('convertToInteractive',\n",
              "                                                     [key], {});\n",
              "          if (!dataTable) return;\n",
              "\n",
              "          const docLinkHtml = 'Like what you see? Visit the ' +\n",
              "            '<a target=\"_blank\" href=https://colab.research.google.com/notebooks/data_table.ipynb>data table notebook</a>'\n",
              "            + ' to learn more about interactive tables.';\n",
              "          element.innerHTML = '';\n",
              "          dataTable['output_type'] = 'display_data';\n",
              "          await google.colab.output.renderOutput(dataTable, element);\n",
              "          const docLink = document.createElement('div');\n",
              "          docLink.innerHTML = docLinkHtml;\n",
              "          element.appendChild(docLink);\n",
              "        }\n",
              "      </script>\n",
              "    </div>\n",
              "  </div>\n",
              "  "
            ]
          },
          "metadata": {},
          "execution_count": 31
        }
      ]
    },
    {
      "cell_type": "markdown",
      "source": [
        "Updating the URBANCITY coloumn with last 5 characters"
      ],
      "metadata": {
        "id": "Z_ynhS8sE-US"
      }
    },
    {
      "cell_type": "code",
      "source": [
        "# Update urbanicity values to be more readable\n",
        "data['URBANICITY'] = data.URBANICITY.apply(lambda x: x[-5:])"
      ],
      "metadata": {
        "id": "gCYwpU8SE8mw"
      },
      "execution_count": null,
      "outputs": []
    },
    {
      "cell_type": "code",
      "source": [
        "data.URBANICITY"
      ],
      "metadata": {
        "colab": {
          "base_uri": "https://localhost:8080/"
        },
        "id": "ixfJvkHhE8zo",
        "outputId": "65c54691-5e5f-49d3-828b-c909a4d16c73"
      },
      "execution_count": null,
      "outputs": [
        {
          "output_type": "execute_result",
          "data": {
            "text/plain": [
              "ID\n",
              "63581743     Urban\n",
              "132761049    Urban\n",
              "921317019    Urban\n",
              "727598473    Urban\n",
              "450221861    Urban\n",
              "             ...  \n",
              "67790126     Urban\n",
              "61970712     Urban\n",
              "849208064    Urban\n",
              "627828331    Urban\n",
              "680381960    Rural\n",
              "Name: URBANICITY, Length: 10302, dtype: object"
            ]
          },
          "metadata": {},
          "execution_count": 14
        }
      ]
    },
    {
      "cell_type": "code",
      "source": [
        "data.URBANICITY.value_counts()"
      ],
      "metadata": {
        "colab": {
          "base_uri": "https://localhost:8080/"
        },
        "id": "FDugsi0LE81p",
        "outputId": "2bc47e4f-195e-444a-b86c-8fdc35c01671"
      },
      "execution_count": null,
      "outputs": [
        {
          "output_type": "execute_result",
          "data": {
            "text/plain": [
              "Urban    8230\n",
              "Rural    2072\n",
              "Name: URBANICITY, dtype: int64"
            ]
          },
          "metadata": {},
          "execution_count": 33
        }
      ]
    },
    {
      "cell_type": "code",
      "source": [
        "data.columns"
      ],
      "metadata": {
        "colab": {
          "base_uri": "https://localhost:8080/"
        },
        "id": "pT8AKQnjE84k",
        "outputId": "389aae7c-c1c6-445d-9390-077dd07a8791"
      },
      "execution_count": null,
      "outputs": [
        {
          "output_type": "execute_result",
          "data": {
            "text/plain": [
              "Index(['KIDSDRIV', 'BIRTH', 'AGE', 'HOMEKIDS', 'YOJ', 'INCOME', 'PARENT1',\n",
              "       'HOME_VAL', 'MSTATUS', 'GENDER', 'EDUCATION', 'OCCUPATION', 'TRAVTIME',\n",
              "       'CAR_USE', 'BLUEBOOK', 'TIF', 'CAR_TYPE', 'RED_CAR', 'OLDCLAIM',\n",
              "       'CLM_FREQ', 'REVOKED', 'MVR_PTS', 'CLM_AMT', 'CAR_AGE', 'CLAIM_FLAG',\n",
              "       'URBANICITY', 'REPEAT'],\n",
              "      dtype='object')"
            ]
          },
          "metadata": {},
          "execution_count": 17
        }
      ]
    },
    {
      "cell_type": "code",
      "source": [
        "data.corr()[\"REPEAT\"].sort_values()  # corr() method finds the correlation of each column in a DataFrame."
      ],
      "metadata": {
        "colab": {
          "base_uri": "https://localhost:8080/"
        },
        "id": "N-ZLAESrE86b",
        "outputId": "aa100ced-fcf4-4b31-87ad-8b743f451036"
      },
      "execution_count": null,
      "outputs": [
        {
          "output_type": "execute_result",
          "data": {
            "text/plain": [
              "HOME_VAL     -0.109571\n",
              "INCOME       -0.065192\n",
              "AGE          -0.051500\n",
              "BLUEBOOK     -0.047690\n",
              "CAR_AGE      -0.028223\n",
              "TIF          -0.023437\n",
              "YOJ          -0.022043\n",
              "TRAVTIME      0.000165\n",
              "KIDSDRIV      0.045657\n",
              "HOMEKIDS      0.054400\n",
              "CLM_AMT       0.135553\n",
              "CLAIM_FLAG    0.249502\n",
              "MVR_PTS       0.469767\n",
              "OLDCLAIM      0.578637\n",
              "CLM_FREQ      0.869136\n",
              "REPEAT        1.000000\n",
              "Name: REPEAT, dtype: float64"
            ]
          },
          "metadata": {},
          "execution_count": 18
        }
      ]
    },
    {
      "cell_type": "markdown",
      "source": [
        " Analysing the Column Repeat (Target)"
      ],
      "metadata": {
        "id": "Y7IeR-x4GR5o"
      }
    },
    {
      "cell_type": "markdown",
      "source": [
        "Target variable of interest: 'whether or not customers have made repeat claims'. This variable is recorded in the form of a 0 if they have made 1 claim in the past five years, and a 1 if they have made more than 1 claim in the past five years."
      ],
      "metadata": {
        "id": "mz85gLJlGobO"
      }
    },
    {
      "cell_type": "code",
      "source": [
        "feature = data.iloc[:,0:26] # iloc() function in python is defined in the Pandas module that helps us to select a specific row or column from the data set. Using the iloc method in python, we can easily retrieve any particular value from a row or column by using index values.\n",
        "target = data[\"REPEAT\"]"
      ],
      "metadata": {
        "id": "LuGzlRglKlyW"
      },
      "execution_count": null,
      "outputs": []
    },
    {
      "cell_type": "markdown",
      "source": [
        "HEATMAP"
      ],
      "metadata": {
        "id": "qTobbR7DKsdx"
      }
    },
    {
      "cell_type": "code",
      "source": [
        "import seaborn as sns\n",
        "plt.figure(figsize=(12,10))\n",
        "\n",
        "sns.heatmap(feature.corr(),annot=True,cmap =\"Greens\")#plt.cm.CMRmap_r)\n",
        "plt.show()"
      ],
      "metadata": {
        "colab": {
          "base_uri": "https://localhost:8080/",
          "height": 648
        },
        "id": "DOV2Qt80Kftz",
        "outputId": "7ad419fb-877b-4852-805b-9f0ca827448e"
      },
      "execution_count": null,
      "outputs": [
        {
          "output_type": "display_data",
          "data": {
            "text/plain": [
              "<Figure size 864x720 with 2 Axes>"
            ],
            "image/png": "[encoded data removed]"
          },
          "metadata": {
            "needs_background": "light"
          }
        }
      ]
    },
    {
      "cell_type": "code",
      "source": [
        "REP = data[\"REPEAT\"].value_counts()\n",
        "REP"
      ],
      "metadata": {
        "colab": {
          "base_uri": "https://localhost:8080/"
        },
        "id": "ZfGp3EFvE89b",
        "outputId": "07811b03-0347-4b66-dc0b-38cfcef2decc"
      },
      "execution_count": null,
      "outputs": [
        {
          "output_type": "execute_result",
          "data": {
            "text/plain": [
              "0    6292\n",
              "1    4010\n",
              "Name: REPEAT, dtype: int64"
            ]
          },
          "metadata": {},
          "execution_count": 27
        }
      ]
    },
    {
      "cell_type": "code",
      "source": [
        "figure(figsize=(8,6))\n",
        "sns.countplot(x='REPEAT',data=data)\n",
        "plt.xlabel('Repeat claim status')\n",
        "plt.xticks([0,1],labels=['One claim','More than one claim'])\n",
        "plt.title('Distribution of Insurance Claims')\n",
        "plt.show()"
      ],
      "metadata": {
        "colab": {
          "base_uri": "https://localhost:8080/",
          "height": 404
        },
        "id": "Giv9d2r5E8_w",
        "outputId": "8a91687b-b364-480e-c144-8876285a8744"
      },
      "execution_count": null,
      "outputs": [
        {
          "output_type": "display_data",
          "data": {
            "text/plain": [
              "<Figure size 576x432 with 1 Axes>"
            ],
            "image/png": "[encoded data removed]"
          },
          "metadata": {
            "needs_background": "light"
          }
        }
      ]
    },
    {
      "cell_type": "markdown",
      "source": [
        "More customers in this database are first-time offenders than repeat offenders by about 2000 claims. Repeat offenders make up about 38.9% of this set of claims."
      ],
      "metadata": {
        "id": "d9qwl-B6LG2q"
      }
    },
    {
      "cell_type": "code",
      "source": [
        "plt.pie(REP,colors= [\"red\",\"green\"],labels=[\"One Claim\",\"More than one claim\"],autopct = \"%0.2f\")  # autopct enables you to display the percent value using Python string formatting.\n",
        "# %f is for floats. The 0.2 here tells Python to put as many digits to the left of the decimal\n",
        "plt.title(\"Claim Details\")  \n",
        "plt.legend(loc=\"upper right\")\n",
        "plt.show()"
      ],
      "metadata": {
        "colab": {
          "base_uri": "https://localhost:8080/",
          "height": 264
        },
        "id": "VEiT2qLAHVXG",
        "outputId": "1b44c492-89a7-4f96-d2f0-d05335feaa9d"
      },
      "execution_count": null,
      "outputs": [
        {
          "output_type": "display_data",
          "data": {
            "text/plain": [
              "<Figure size 432x288 with 1 Axes>"
            ],
            "image/png": "[encoded data removed]"
          },
          "metadata": {}
        }
      ]
    },
    {
      "cell_type": "markdown",
      "source": [
        "Gender"
      ],
      "metadata": {
        "id": "G6Af8WIyLbxU"
      }
    },
    {
      "cell_type": "markdown",
      "source": [
        "Going to find that does gender have any influence on target variable"
      ],
      "metadata": {
        "id": "L7DhiKlxLf5L"
      }
    },
    {
      "cell_type": "code",
      "source": [
        "print(\"How many Male drivers made repeat claims?\")\n",
        "print(\"{:.2%}\".format(data[\"REPEAT\"][data[\"GENDER\"] == 'M'].value_counts(normalize = True)[1]))\n",
        "\n",
        "print(\"How many Female drivers made repeat claims?\")\n",
        "print(\"{:.2%}\".format(data[\"REPEAT\"][data[\"GENDER\"]== 'F'].value_counts(normalize = True)[1]))\n",
        "figure(figsize=(10,6))\n",
        "sns.barplot(data.GENDER, data.REPEAT)\n",
        "plt.xlabel('Gender')\n",
        "plt.xticks([0,1],labels=['Male','Female'])\n",
        "plt.ylabel(\"Proportion of Repeat Offenders\")\n",
        "plt.show()\n"
      ],
      "metadata": {
        "colab": {
          "base_uri": "https://localhost:8080/",
          "height": 519
        },
        "id": "-47li9MiE9CX",
        "outputId": "d5488522-b704-4492-8668-12ff0775c9ba"
      },
      "execution_count": null,
      "outputs": [
        {
          "output_type": "stream",
          "name": "stdout",
          "text": [
            "How many Male drivers made repeat claims?\n",
            "39.02%\n",
            "How many Female drivers made repeat claims?\n",
            "38.85%\n"
          ]
        },
        {
          "output_type": "stream",
          "name": "stderr",
          "text": [
            "/usr/local/lib/python3.8/dist-packages/seaborn/_decorators.py:36: FutureWarning: Pass the following variables as keyword args: x, y. From version 0.12, the only valid positional argument will be `data`, and passing other arguments without an explicit keyword will result in an error or misinterpretation.\n",
            "  warnings.warn(\n"
          ]
        },
        {
          "output_type": "display_data",
          "data": {
            "text/plain": [
              "<Figure size 720x432 with 1 Axes>"
            ],
            "image/png": "[encoded data removed]"
          },
          "metadata": {
            "needs_background": "light"
          }
        }
      ]
    },
    {
      "cell_type": "markdown",
      "source": [
        "Gender seems to have almost zero effect on whether or not a customer will make more than one claim."
      ],
      "metadata": {
        "id": "WoB3uTKhMHff"
      }
    },
    {
      "cell_type": "markdown",
      "source": [
        "Urbanicity"
      ],
      "metadata": {
        "id": "jrzvUJPeMMPl"
      }
    },
    {
      "cell_type": "markdown",
      "source": [
        "Going to see if a customer lives in the city, are they more likely to be a repeat offender or not."
      ],
      "metadata": {
        "id": "Zhja_7UmMQDL"
      }
    },
    {
      "cell_type": "code",
      "source": [
        "print(\"How many Urban drivers made repeat claims?\")\n",
        "print(\"{:.2%}\".format(data[\"REPEAT\"][data[\"URBANICITY\"] == 'Urban'].value_counts(normalize = True)[1]))\n",
        "\n",
        "print(\"How many Rural drivers made repeat claims?\")\n",
        "print(\"{:.2%}\".format(data[\"REPEAT\"][data[\"URBANICITY\"] == 'Rural'].value_counts(normalize = True)[1]))\n",
        "figure(figsize=(10,6))\n",
        "sns.barplot(x='URBANICITY',y='REPEAT', data=data)\n",
        "plt.ylabel(\"Proportion of Repeat Offenders\")\n",
        "plt.show()"
      ],
      "metadata": {
        "colab": {
          "base_uri": "https://localhost:8080/",
          "height": 462
        },
        "id": "FwHTanHpE9EE",
        "outputId": "66733b77-c9c1-4a34-e4c9-7e956d19502a"
      },
      "execution_count": null,
      "outputs": [
        {
          "output_type": "stream",
          "name": "stdout",
          "text": [
            "How many Urban drivers made repeat claims?\n",
            "45.66%\n",
            "How many Rural drivers made repeat claims?\n",
            "12.16%\n"
          ]
        },
        {
          "output_type": "display_data",
          "data": {
            "text/plain": [
              "<Figure size 720x432 with 1 Axes>"
            ],
            "image/png": "[encoded data removed]"
          },
          "metadata": {
            "needs_background": "light"
          }
        }
      ]
    },
    {
      "cell_type": "markdown",
      "source": [
        "We can see that Urban drivers have a much higher probability of becoming repeat offenders than those who live in Rural areas. The plots above and below show that 45.66% of all Urban drivers have made repeat claims!\n",
        "\n",
        "That is, if the client lives in the city, there's about a 45% chance that they've made more than one car insurance claim."
      ],
      "metadata": {
        "id": "DUZCqeUNTI9B"
      }
    },
    {
      "cell_type": "markdown",
      "source": [
        "Demerit Points\n",
        "Two questions:\n",
        "\n",
        "If a customer has one or more demerit points on their record, are they more likely to be a repeat offender?\n",
        "\n",
        "Does the likelihood of being a repeat offender increase with the number of demerit points?"
      ],
      "metadata": {
        "id": "jg0-HnaoTWeH"
      }
    },
    {
      "cell_type": "code",
      "source": [
        "# we need to create a column which represents clients with 0 demerit points, and those with 1 or more.\n",
        "data['DEMERITS'] = data.MVR_PTS.apply(lambda x: 'Zero' if x == 0 else 'One or more')\n",
        "\n",
        "print(\"How many drivers without demerits made repeat claims?\")\n",
        "print(\"{:.2%}\".format(data[\"REPEAT\"][data[\"DEMERITS\"] == 'Zero'].value_counts(normalize = True)[1]))\n",
        "\n",
        "print(\"How many drivers with demerits made repeat claims?\")\n",
        "print(\"{:.2%}\".format(data[\"REPEAT\"][data[\"DEMERITS\"] == 'One or more'].value_counts(normalize = True)[1]))\n",
        "figure(figsize=(10,6))\n",
        "sns.barplot(x='DEMERITS',y=\"REPEAT\", data=data)\n",
        "plt.xlabel('Number of demerits')\n",
        "plt.ylabel(\"Proportion of Repeat Offenders\")\n",
        "plt.show()"
      ],
      "metadata": {
        "colab": {
          "base_uri": "https://localhost:8080/",
          "height": 462
        },
        "id": "LlFcp1tAMSDj",
        "outputId": "2fd5b8c2-7749-4b5d-c6a4-844baeb51923"
      },
      "execution_count": null,
      "outputs": [
        {
          "output_type": "stream",
          "name": "stdout",
          "text": [
            "How many drivers without demerits made repeat claims?\n",
            "22.03%\n",
            "How many drivers with demerits made repeat claims?\n",
            "52.87%\n"
          ]
        },
        {
          "output_type": "display_data",
          "data": {
            "text/plain": [
              "<Figure size 720x432 with 1 Axes>"
            ],
            "image/png": "[encoded data removed]"
          },
          "metadata": {
            "needs_background": "light"
          }
        }
      ]
    },
    {
      "cell_type": "markdown",
      "source": [
        "Not surprisingly, if a driver has demerit points on their record, they're much more likely to have more than one insurance claim! Now, does the likelihood of repeat claims increase with the actual number of demerit points?"
      ],
      "metadata": {
        "id": "9kDCr5ZxTtS-"
      }
    },
    {
      "cell_type": "code",
      "source": [
        "data [data.index.duplicated ()]"
      ],
      "metadata": {
        "colab": {
          "base_uri": "https://localhost:8080/",
          "height": 831
        },
        "id": "aD26TKN5fRHU",
        "outputId": "224494ec-7f7f-46e5-e175-1c35936b7823"
      },
      "execution_count": null,
      "outputs": [
        {
          "output_type": "execute_result",
          "data": {
            "text/plain": [
              "           KIDSDRIV    BIRTH   AGE  HOMEKIDS   YOJ    INCOME PARENT1  \\\n",
              "ID                                                                     \n",
              "298667574         2  26JUN54  45.0         2  13.0  103087.0      No   \n",
              "137443614         0  05SEP54  45.0         1   0.0       0.0      No   \n",
              "790738376         1  25MAR53  46.0         0   8.0  109874.0      No   \n",
              "255731304         0  23NOV46  52.0         0  15.0   88691.0      No   \n",
              "214040951         1  20NOV40  58.0         2  17.0    3272.0      No   \n",
              "...             ...      ...   ...       ...   ...       ...     ...   \n",
              "348040935         0  01JUN45  54.0         0  14.0   80227.0      No   \n",
              "329198624         0  03MAR50  49.0         0  11.0   34390.0      No   \n",
              "964324469         0  13JAN51  48.0         0   5.0   97212.0      No   \n",
              "808765493         0  15DEC44  54.0         0  10.0  171157.0      No   \n",
              "791755704         0  23MAY46  53.0         0   0.0       0.0      No   \n",
              "\n",
              "           HOME_VAL MSTATUS GENDER  ... RED_CAR OLDCLAIM  CLM_FREQ REVOKED  \\\n",
              "ID                                  ...                                      \n",
              "298667574  237957.0     Yes      M  ...     yes        0         0      No   \n",
              "137443614   99798.0     Yes      M  ...      no        0         0      No   \n",
              "790738376  319629.0     Yes      M  ...      no        0         0      No   \n",
              "255731304  279497.0     Yes      M  ...     yes     1261         4      No   \n",
              "214040951       0.0     Yes      M  ...     yes     5086         2      No   \n",
              "...             ...     ...    ...  ...     ...      ...       ...     ...   \n",
              "348040935  247045.0     Yes      F  ...      no     8152         3      No   \n",
              "329198624       0.0      No      F  ...      no     6041         4      No   \n",
              "964324469  331961.0      No      M  ...     yes        0         0      No   \n",
              "808765493  466984.0     Yes      F  ...      no        0         0      No   \n",
              "791755704       0.0     Yes      F  ...      no    27795         2     Yes   \n",
              "\n",
              "           MVR_PTS  CLM_AMT CAR_AGE CLAIM_FLAG           URBANICITY  REPEAT  \n",
              "ID                                                                           \n",
              "298667574        1      0.0     9.0        0.0  Highly Urban/ Urban       0  \n",
              "137443614        0      0.0     7.0        0.0  Highly Rural/ Rural       0  \n",
              "790738376        2      0.0     6.0        0.0  Highly Urban/ Urban       0  \n",
              "255731304        2      0.0    10.0        0.0  Highly Urban/ Urban       1  \n",
              "214040951        2   3231.0     5.0        1.0  Highly Urban/ Urban       1  \n",
              "...            ...      ...     ...        ...                  ...     ...  \n",
              "348040935        0      0.0    11.0        0.0  Highly Urban/ Urban       1  \n",
              "329198624        4   4758.0     9.0        1.0  Highly Rural/ Rural       1  \n",
              "964324469        3      0.0     8.0        0.0  Highly Urban/ Urban       0  \n",
              "808765493        0      0.0    14.0        0.0  Highly Urban/ Urban       0  \n",
              "791755704        2   5725.0     4.0        1.0  Highly Urban/ Urban       1  \n",
              "\n",
              "[698 rows x 27 columns]"
            ],
            "text/html": [
              "\n",
              "  <div id=\"df-438911ea-c5b3-4d04-be13-4be221875a2e\">\n",
              "    <div class=\"colab-df-container\">\n",
              "      <div>\n",
              "<style scoped>\n",
              "    .dataframe tbody tr th:only-of-type {\n",
              "        vertical-align: middle;\n",
              "    }\n",
              "\n",
              "    .dataframe tbody tr th {\n",
              "        vertical-align: top;\n",
              "    }\n",
              "\n",
              "    .dataframe thead th {\n",
              "        text-align: right;\n",
              "    }\n",
              "</style>\n",
              "<table border=\"1\" class=\"dataframe\">\n",
              "  <thead>\n",
              "    <tr style=\"text-align: right;\">\n",
              "      <th></th>\n",
              "      <th>KIDSDRIV</th>\n",
              "      <th>BIRTH</th>\n",
              "      <th>AGE</th>\n",
              "      <th>HOMEKIDS</th>\n",
              "      <th>YOJ</th>\n",
              "      <th>INCOME</th>\n",
              "      <th>PARENT1</th>\n",
              "      <th>HOME_VAL</th>\n",
              "      <th>MSTATUS</th>\n",
              "      <th>GENDER</th>\n",
              "      <th>...</th>\n",
              "      <th>RED_CAR</th>\n",
              "      <th>OLDCLAIM</th>\n",
              "      <th>CLM_FREQ</th>\n",
              "      <th>REVOKED</th>\n",
              "      <th>MVR_PTS</th>\n",
              "      <th>CLM_AMT</th>\n",
              "      <th>CAR_AGE</th>\n",
              "      <th>CLAIM_FLAG</th>\n",
              "      <th>URBANICITY</th>\n",
              "      <th>REPEAT</th>\n",
              "    </tr>\n",
              "    <tr>\n",
              "      <th>ID</th>\n",
              "      <th></th>\n",
              "      <th></th>\n",
              "      <th></th>\n",
              "      <th></th>\n",
              "      <th></th>\n",
              "      <th></th>\n",
              "      <th></th>\n",
              "      <th></th>\n",
              "      <th></th>\n",
              "      <th></th>\n",
              "      <th></th>\n",
              "      <th></th>\n",
              "      <th></th>\n",
              "      <th></th>\n",
              "      <th></th>\n",
              "      <th></th>\n",
              "      <th></th>\n",
              "      <th></th>\n",
              "      <th></th>\n",
              "      <th></th>\n",
              "      <th></th>\n",
              "    </tr>\n",
              "  </thead>\n",
              "  <tbody>\n",
              "    <tr>\n",
              "      <th>298667574</th>\n",
              "      <td>2</td>\n",
              "      <td>26JUN54</td>\n",
              "      <td>45.0</td>\n",
              "      <td>2</td>\n",
              "      <td>13.0</td>\n",
              "      <td>103087.0</td>\n",
              "      <td>No</td>\n",
              "      <td>237957.0</td>\n",
              "      <td>Yes</td>\n",
              "      <td>M</td>\n",
              "      <td>...</td>\n",
              "      <td>yes</td>\n",
              "      <td>0</td>\n",
              "      <td>0</td>\n",
              "      <td>No</td>\n",
              "      <td>1</td>\n",
              "      <td>0.0</td>\n",
              "      <td>9.0</td>\n",
              "      <td>0.0</td>\n",
              "      <td>Highly Urban/ Urban</td>\n",
              "      <td>0</td>\n",
              "    </tr>\n",
              "    <tr>\n",
              "      <th>137443614</th>\n",
              "      <td>0</td>\n",
              "      <td>05SEP54</td>\n",
              "      <td>45.0</td>\n",
              "      <td>1</td>\n",
              "      <td>0.0</td>\n",
              "      <td>0.0</td>\n",
              "      <td>No</td>\n",
              "      <td>99798.0</td>\n",
              "      <td>Yes</td>\n",
              "      <td>M</td>\n",
              "      <td>...</td>\n",
              "      <td>no</td>\n",
              "      <td>0</td>\n",
              "      <td>0</td>\n",
              "      <td>No</td>\n",
              "      <td>0</td>\n",
              "      <td>0.0</td>\n",
              "      <td>7.0</td>\n",
              "      <td>0.0</td>\n",
              "      <td>Highly Rural/ Rural</td>\n",
              "      <td>0</td>\n",
              "    </tr>\n",
              "    <tr>\n",
              "      <th>790738376</th>\n",
              "      <td>1</td>\n",
              "      <td>25MAR53</td>\n",
              "      <td>46.0</td>\n",
              "      <td>0</td>\n",
              "      <td>8.0</td>\n",
              "      <td>109874.0</td>\n",
              "      <td>No</td>\n",
              "      <td>319629.0</td>\n",
              "      <td>Yes</td>\n",
              "      <td>M</td>\n",
              "      <td>...</td>\n",
              "      <td>no</td>\n",
              "      <td>0</td>\n",
              "      <td>0</td>\n",
              "      <td>No</td>\n",
              "      <td>2</td>\n",
              "      <td>0.0</td>\n",
              "      <td>6.0</td>\n",
              "      <td>0.0</td>\n",
              "      <td>Highly Urban/ Urban</td>\n",
              "      <td>0</td>\n",
              "    </tr>\n",
              "    <tr>\n",
              "      <th>255731304</th>\n",
              "      <td>0</td>\n",
              "      <td>23NOV46</td>\n",
              "      <td>52.0</td>\n",
              "      <td>0</td>\n",
              "      <td>15.0</td>\n",
              "      <td>88691.0</td>\n",
              "      <td>No</td>\n",
              "      <td>279497.0</td>\n",
              "      <td>Yes</td>\n",
              "      <td>M</td>\n",
              "      <td>...</td>\n",
              "      <td>yes</td>\n",
              "      <td>1261</td>\n",
              "      <td>4</td>\n",
              "      <td>No</td>\n",
              "      <td>2</td>\n",
              "      <td>0.0</td>\n",
              "      <td>10.0</td>\n",
              "      <td>0.0</td>\n",
              "      <td>Highly Urban/ Urban</td>\n",
              "      <td>1</td>\n",
              "    </tr>\n",
              "    <tr>\n",
              "      <th>214040951</th>\n",
              "      <td>1</td>\n",
              "      <td>20NOV40</td>\n",
              "      <td>58.0</td>\n",
              "      <td>2</td>\n",
              "      <td>17.0</td>\n",
              "      <td>3272.0</td>\n",
              "      <td>No</td>\n",
              "      <td>0.0</td>\n",
              "      <td>Yes</td>\n",
              "      <td>M</td>\n",
              "      <td>...</td>\n",
              "      <td>yes</td>\n",
              "      <td>5086</td>\n",
              "      <td>2</td>\n",
              "      <td>No</td>\n",
              "      <td>2</td>\n",
              "      <td>3231.0</td>\n",
              "      <td>5.0</td>\n",
              "      <td>1.0</td>\n",
              "      <td>Highly Urban/ Urban</td>\n",
              "      <td>1</td>\n",
              "    </tr>\n",
              "    <tr>\n",
              "      <th>...</th>\n",
              "      <td>...</td>\n",
              "      <td>...</td>\n",
              "      <td>...</td>\n",
              "      <td>...</td>\n",
              "      <td>...</td>\n",
              "      <td>...</td>\n",
              "      <td>...</td>\n",
              "      <td>...</td>\n",
              "      <td>...</td>\n",
              "      <td>...</td>\n",
              "      <td>...</td>\n",
              "      <td>...</td>\n",
              "      <td>...</td>\n",
              "      <td>...</td>\n",
              "      <td>...</td>\n",
              "      <td>...</td>\n",
              "      <td>...</td>\n",
              "      <td>...</td>\n",
              "      <td>...</td>\n",
              "      <td>...</td>\n",
              "      <td>...</td>\n",
              "    </tr>\n",
              "    <tr>\n",
              "      <th>348040935</th>\n",
              "      <td>0</td>\n",
              "      <td>01JUN45</td>\n",
              "      <td>54.0</td>\n",
              "      <td>0</td>\n",
              "      <td>14.0</td>\n",
              "      <td>80227.0</td>\n",
              "      <td>No</td>\n",
              "      <td>247045.0</td>\n",
              "      <td>Yes</td>\n",
              "      <td>F</td>\n",
              "      <td>...</td>\n",
              "      <td>no</td>\n",
              "      <td>8152</td>\n",
              "      <td>3</td>\n",
              "      <td>No</td>\n",
              "      <td>0</td>\n",
              "      <td>0.0</td>\n",
              "      <td>11.0</td>\n",
              "      <td>0.0</td>\n",
              "      <td>Highly Urban/ Urban</td>\n",
              "      <td>1</td>\n",
              "    </tr>\n",
              "    <tr>\n",
              "      <th>329198624</th>\n",
              "      <td>0</td>\n",
              "      <td>03MAR50</td>\n",
              "      <td>49.0</td>\n",
              "      <td>0</td>\n",
              "      <td>11.0</td>\n",
              "      <td>34390.0</td>\n",
              "      <td>No</td>\n",
              "      <td>0.0</td>\n",
              "      <td>No</td>\n",
              "      <td>F</td>\n",
              "      <td>...</td>\n",
              "      <td>no</td>\n",
              "      <td>6041</td>\n",
              "      <td>4</td>\n",
              "      <td>No</td>\n",
              "      <td>4</td>\n",
              "      <td>4758.0</td>\n",
              "      <td>9.0</td>\n",
              "      <td>1.0</td>\n",
              "      <td>Highly Rural/ Rural</td>\n",
              "      <td>1</td>\n",
              "    </tr>\n",
              "    <tr>\n",
              "      <th>964324469</th>\n",
              "      <td>0</td>\n",
              "      <td>13JAN51</td>\n",
              "      <td>48.0</td>\n",
              "      <td>0</td>\n",
              "      <td>5.0</td>\n",
              "      <td>97212.0</td>\n",
              "      <td>No</td>\n",
              "      <td>331961.0</td>\n",
              "      <td>No</td>\n",
              "      <td>M</td>\n",
              "      <td>...</td>\n",
              "      <td>yes</td>\n",
              "      <td>0</td>\n",
              "      <td>0</td>\n",
              "      <td>No</td>\n",
              "      <td>3</td>\n",
              "      <td>0.0</td>\n",
              "      <td>8.0</td>\n",
              "      <td>0.0</td>\n",
              "      <td>Highly Urban/ Urban</td>\n",
              "      <td>0</td>\n",
              "    </tr>\n",
              "    <tr>\n",
              "      <th>808765493</th>\n",
              "      <td>0</td>\n",
              "      <td>15DEC44</td>\n",
              "      <td>54.0</td>\n",
              "      <td>0</td>\n",
              "      <td>10.0</td>\n",
              "      <td>171157.0</td>\n",
              "      <td>No</td>\n",
              "      <td>466984.0</td>\n",
              "      <td>Yes</td>\n",
              "      <td>F</td>\n",
              "      <td>...</td>\n",
              "      <td>no</td>\n",
              "      <td>0</td>\n",
              "      <td>0</td>\n",
              "      <td>No</td>\n",
              "      <td>0</td>\n",
              "      <td>0.0</td>\n",
              "      <td>14.0</td>\n",
              "      <td>0.0</td>\n",
              "      <td>Highly Urban/ Urban</td>\n",
              "      <td>0</td>\n",
              "    </tr>\n",
              "    <tr>\n",
              "      <th>791755704</th>\n",
              "      <td>0</td>\n",
              "      <td>23MAY46</td>\n",
              "      <td>53.0</td>\n",
              "      <td>0</td>\n",
              "      <td>0.0</td>\n",
              "      <td>0.0</td>\n",
              "      <td>No</td>\n",
              "      <td>0.0</td>\n",
              "      <td>Yes</td>\n",
              "      <td>F</td>\n",
              "      <td>...</td>\n",
              "      <td>no</td>\n",
              "      <td>27795</td>\n",
              "      <td>2</td>\n",
              "      <td>Yes</td>\n",
              "      <td>2</td>\n",
              "      <td>5725.0</td>\n",
              "      <td>4.0</td>\n",
              "      <td>1.0</td>\n",
              "      <td>Highly Urban/ Urban</td>\n",
              "      <td>1</td>\n",
              "    </tr>\n",
              "  </tbody>\n",
              "</table>\n",
              "<p>698 rows × 27 columns</p>\n",
              "</div>\n",
              "      <button class=\"colab-df-convert\" onclick=\"convertToInteractive('df-438911ea-c5b3-4d04-be13-4be221875a2e')\"\n",
              "              title=\"Convert this dataframe to an interactive table.\"\n",
              "              style=\"display:none;\">\n",
              "        \n",
              "  <svg xmlns=\"http://www.w3.org/2000/svg\" height=\"24px\"viewBox=\"0 0 24 24\"\n",
              "       width=\"24px\">\n",
              "    <path d=\"M0 0h24v24H0V0z\" fill=\"none\"/>\n",
              "    <path d=\"M18.56 5.44l.94 2.06.94-2.06 2.06-.94-2.06-.94-.94-2.06-.94 2.06-2.06.94zm-11 1L8.5 8.5l.94-2.06 2.06-.94-2.06-.94L8.5 2.5l-.94 2.06-2.06.94zm10 10l.94 2.06.94-2.06 2.06-.94-2.06-.94-.94-2.06-.94 2.06-2.06.94z\"/><path d=\"M17.41 7.96l-1.37-1.37c-.4-.4-.92-.59-1.43-.59-.52 0-1.04.2-1.43.59L10.3 9.45l-7.72 7.72c-.78.78-.78 2.05 0 2.83L4 21.41c.39.39.9.59 1.41.59.51 0 1.02-.2 1.41-.59l7.78-7.78 2.81-2.81c.8-.78.8-2.07 0-2.86zM5.41 20L4 18.59l7.72-7.72 1.47 1.35L5.41 20z\"/>\n",
              "  </svg>\n",
              "      </button>\n",
              "      \n",
              "  <style>\n",
              "    .colab-df-container {\n",
              "      display:flex;\n",
              "      flex-wrap:wrap;\n",
              "      gap: 12px;\n",
              "    }\n",
              "\n",
              "    .colab-df-convert {\n",
              "      background-color: #E8F0FE;\n",
              "      border: none;\n",
              "      border-radius: 50%;\n",
              "      cursor: pointer;\n",
              "      display: none;\n",
              "      fill: #1967D2;\n",
              "      height: 32px;\n",
              "      padding: 0 0 0 0;\n",
              "      width: 32px;\n",
              "    }\n",
              "\n",
              "    .colab-df-convert:hover {\n",
              "      background-color: #E2EBFA;\n",
              "      box-shadow: 0px 1px 2px rgba(60, 64, 67, 0.3), 0px 1px 3px 1px rgba(60, 64, 67, 0.15);\n",
              "      fill: #174EA6;\n",
              "    }\n",
              "\n",
              "    [theme=dark] .colab-df-convert {\n",
              "      background-color: #3B4455;\n",
              "      fill: #D2E3FC;\n",
              "    }\n",
              "\n",
              "    [theme=dark] .colab-df-convert:hover {\n",
              "      background-color: #434B5C;\n",
              "      box-shadow: 0px 1px 3px 1px rgba(0, 0, 0, 0.15);\n",
              "      filter: drop-shadow(0px 1px 2px rgba(0, 0, 0, 0.3));\n",
              "      fill: #FFFFFF;\n",
              "    }\n",
              "  </style>\n",
              "\n",
              "      <script>\n",
              "        const buttonEl =\n",
              "          document.querySelector('#df-438911ea-c5b3-4d04-be13-4be221875a2e button.colab-df-convert');\n",
              "        buttonEl.style.display =\n",
              "          google.colab.kernel.accessAllowed ? 'block' : 'none';\n",
              "\n",
              "        async function convertToInteractive(key) {\n",
              "          const element = document.querySelector('#df-438911ea-c5b3-4d04-be13-4be221875a2e');\n",
              "          const dataTable =\n",
              "            await google.colab.kernel.invokeFunction('convertToInteractive',\n",
              "                                                     [key], {});\n",
              "          if (!dataTable) return;\n",
              "\n",
              "          const docLinkHtml = 'Like what you see? Visit the ' +\n",
              "            '<a target=\"_blank\" href=https://colab.research.google.com/notebooks/data_table.ipynb>data table notebook</a>'\n",
              "            + ' to learn more about interactive tables.';\n",
              "          element.innerHTML = '';\n",
              "          dataTable['output_type'] = 'display_data';\n",
              "          await google.colab.output.renderOutput(dataTable, element);\n",
              "          const docLink = document.createElement('div');\n",
              "          docLink.innerHTML = docLinkHtml;\n",
              "          element.appendChild(docLink);\n",
              "        }\n",
              "      </script>\n",
              "    </div>\n",
              "  </div>\n",
              "  "
            ]
          },
          "metadata": {},
          "execution_count": 19
        }
      ]
    },
    {
      "cell_type": "code",
      "source": [
        "figure(figsize=(10,5))\n",
        "sns.lineplot(x=\"MVR_PTS\",y=\"REPEAT\",data=data)\n",
        "plt.xlabel(\"Number of Demerit Points\")\n",
        "plt.ylabel(\"Proportion of Repeat Offenders\")\n",
        "plt.show()"
      ],
      "metadata": {
        "colab": {
          "base_uri": "https://localhost:8080/",
          "height": 702
        },
        "id": "dhqNhQa0MSFM",
        "outputId": "fc41cc80-e936-4c9f-8677-5383f7f2a30e"
      },
      "execution_count": null,
      "outputs": [
        {
          "output_type": "error",
          "ename": "ValueError",
          "evalue": "ignored",
          "traceback": [
            "\u001b[0;31m---------------------------------------------------------------------------\u001b[0m",
            "\u001b[0;31mValueError\u001b[0m                                Traceback (most recent call last)",
            "\u001b[0;32m<ipython-input-34-8c384f8ca63f>\u001b[0m in \u001b[0;36m<module>\u001b[0;34m\u001b[0m\n\u001b[1;32m      1\u001b[0m \u001b[0mfigure\u001b[0m\u001b[0;34m(\u001b[0m\u001b[0mfigsize\u001b[0m\u001b[0;34m=\u001b[0m\u001b[0;34m(\u001b[0m\u001b[0;36m10\u001b[0m\u001b[0;34m,\u001b[0m\u001b[0;36m5\u001b[0m\u001b[0;34m)\u001b[0m\u001b[0;34m)\u001b[0m\u001b[0;34m\u001b[0m\u001b[0;34m\u001b[0m\u001b[0m\n\u001b[0;32m----> 2\u001b[0;31m \u001b[0msns\u001b[0m\u001b[0;34m.\u001b[0m\u001b[0mlineplot\u001b[0m\u001b[0;34m(\u001b[0m\u001b[0mx\u001b[0m\u001b[0;34m=\u001b[0m\u001b[0;34m\"MVR_PTS\"\u001b[0m\u001b[0;34m,\u001b[0m\u001b[0my\u001b[0m\u001b[0;34m=\u001b[0m\u001b[0;34m\"REPEAT\"\u001b[0m\u001b[0;34m,\u001b[0m\u001b[0mdata\u001b[0m\u001b[0;34m=\u001b[0m\u001b[0mdata\u001b[0m\u001b[0;34m)\u001b[0m\u001b[0;34m\u001b[0m\u001b[0;34m\u001b[0m\u001b[0m\n\u001b[0m\u001b[1;32m      3\u001b[0m \u001b[0mplt\u001b[0m\u001b[0;34m.\u001b[0m\u001b[0mxlabel\u001b[0m\u001b[0;34m(\u001b[0m\u001b[0;34m\"Number of Demerit Points\"\u001b[0m\u001b[0;34m)\u001b[0m\u001b[0;34m\u001b[0m\u001b[0;34m\u001b[0m\u001b[0m\n\u001b[1;32m      4\u001b[0m \u001b[0mplt\u001b[0m\u001b[0;34m.\u001b[0m\u001b[0mylabel\u001b[0m\u001b[0;34m(\u001b[0m\u001b[0;34m\"Proportion of Repeat Offenders\"\u001b[0m\u001b[0;34m)\u001b[0m\u001b[0;34m\u001b[0m\u001b[0;34m\u001b[0m\u001b[0m\n\u001b[1;32m      5\u001b[0m \u001b[0mplt\u001b[0m\u001b[0;34m.\u001b[0m\u001b[0mshow\u001b[0m\u001b[0;34m(\u001b[0m\u001b[0;34m)\u001b[0m\u001b[0;34m\u001b[0m\u001b[0;34m\u001b[0m\u001b[0m\n",
            "\u001b[0;32m/usr/local/lib/python3.8/dist-packages/seaborn/_decorators.py\u001b[0m in \u001b[0;36minner_f\u001b[0;34m(*args, **kwargs)\u001b[0m\n\u001b[1;32m     44\u001b[0m             )\n\u001b[1;32m     45\u001b[0m         \u001b[0mkwargs\u001b[0m\u001b[0;34m.\u001b[0m\u001b[0mupdate\u001b[0m\u001b[0;34m(\u001b[0m\u001b[0;34m{\u001b[0m\u001b[0mk\u001b[0m\u001b[0;34m:\u001b[0m \u001b[0marg\u001b[0m \u001b[0;32mfor\u001b[0m \u001b[0mk\u001b[0m\u001b[0;34m,\u001b[0m \u001b[0marg\u001b[0m \u001b[0;32min\u001b[0m \u001b[0mzip\u001b[0m\u001b[0;34m(\u001b[0m\u001b[0msig\u001b[0m\u001b[0;34m.\u001b[0m\u001b[0mparameters\u001b[0m\u001b[0;34m,\u001b[0m \u001b[0margs\u001b[0m\u001b[0;34m)\u001b[0m\u001b[0;34m}\u001b[0m\u001b[0;34m)\u001b[0m\u001b[0;34m\u001b[0m\u001b[0;34m\u001b[0m\u001b[0m\n\u001b[0;32m---> 46\u001b[0;31m         \u001b[0;32mreturn\u001b[0m \u001b[0mf\u001b[0m\u001b[0;34m(\u001b[0m\u001b[0;34m**\u001b[0m\u001b[0mkwargs\u001b[0m\u001b[0;34m)\u001b[0m\u001b[0;34m\u001b[0m\u001b[0;34m\u001b[0m\u001b[0m\n\u001b[0m\u001b[1;32m     47\u001b[0m     \u001b[0;32mreturn\u001b[0m \u001b[0minner_f\u001b[0m\u001b[0;34m\u001b[0m\u001b[0;34m\u001b[0m\u001b[0m\n\u001b[1;32m     48\u001b[0m \u001b[0;34m\u001b[0m\u001b[0m\n",
            "\u001b[0;32m/usr/local/lib/python3.8/dist-packages/seaborn/relational.py\u001b[0m in \u001b[0;36mlineplot\u001b[0;34m(x, y, hue, size, style, data, palette, hue_order, hue_norm, sizes, size_order, size_norm, dashes, markers, style_order, units, estimator, ci, n_boot, seed, sort, err_style, err_kws, legend, ax, **kwargs)\u001b[0m\n\u001b[1;32m    708\u001b[0m     \u001b[0mp\u001b[0m\u001b[0;34m.\u001b[0m\u001b[0m_attach\u001b[0m\u001b[0;34m(\u001b[0m\u001b[0max\u001b[0m\u001b[0;34m)\u001b[0m\u001b[0;34m\u001b[0m\u001b[0;34m\u001b[0m\u001b[0m\n\u001b[1;32m    709\u001b[0m \u001b[0;34m\u001b[0m\u001b[0m\n\u001b[0;32m--> 710\u001b[0;31m     \u001b[0mp\u001b[0m\u001b[0;34m.\u001b[0m\u001b[0mplot\u001b[0m\u001b[0;34m(\u001b[0m\u001b[0max\u001b[0m\u001b[0;34m,\u001b[0m \u001b[0mkwargs\u001b[0m\u001b[0;34m)\u001b[0m\u001b[0;34m\u001b[0m\u001b[0;34m\u001b[0m\u001b[0m\n\u001b[0m\u001b[1;32m    711\u001b[0m     \u001b[0;32mreturn\u001b[0m \u001b[0max\u001b[0m\u001b[0;34m\u001b[0m\u001b[0;34m\u001b[0m\u001b[0m\n\u001b[1;32m    712\u001b[0m \u001b[0;34m\u001b[0m\u001b[0m\n",
            "\u001b[0;32m/usr/local/lib/python3.8/dist-packages/seaborn/relational.py\u001b[0m in \u001b[0;36mplot\u001b[0;34m(self, ax, kws)\u001b[0m\n\u001b[1;32m    469\u001b[0m         \u001b[0;31m# Loop over the semantic subsets and add to the plot\u001b[0m\u001b[0;34m\u001b[0m\u001b[0;34m\u001b[0m\u001b[0;34m\u001b[0m\u001b[0m\n\u001b[1;32m    470\u001b[0m         \u001b[0mgrouping_vars\u001b[0m \u001b[0;34m=\u001b[0m \u001b[0;34m\"hue\"\u001b[0m\u001b[0;34m,\u001b[0m \u001b[0;34m\"size\"\u001b[0m\u001b[0;34m,\u001b[0m \u001b[0;34m\"style\"\u001b[0m\u001b[0;34m\u001b[0m\u001b[0;34m\u001b[0m\u001b[0m\n\u001b[0;32m--> 471\u001b[0;31m         \u001b[0;32mfor\u001b[0m \u001b[0msub_vars\u001b[0m\u001b[0;34m,\u001b[0m \u001b[0msub_data\u001b[0m \u001b[0;32min\u001b[0m \u001b[0mself\u001b[0m\u001b[0;34m.\u001b[0m\u001b[0miter_data\u001b[0m\u001b[0;34m(\u001b[0m\u001b[0mgrouping_vars\u001b[0m\u001b[0;34m,\u001b[0m \u001b[0mfrom_comp_data\u001b[0m\u001b[0;34m=\u001b[0m\u001b[0;32mTrue\u001b[0m\u001b[0;34m)\u001b[0m\u001b[0;34m:\u001b[0m\u001b[0;34m\u001b[0m\u001b[0;34m\u001b[0m\u001b[0m\n\u001b[0m\u001b[1;32m    472\u001b[0m \u001b[0;34m\u001b[0m\u001b[0m\n\u001b[1;32m    473\u001b[0m             \u001b[0;32mif\u001b[0m \u001b[0mself\u001b[0m\u001b[0;34m.\u001b[0m\u001b[0msort\u001b[0m\u001b[0;34m:\u001b[0m\u001b[0;34m\u001b[0m\u001b[0;34m\u001b[0m\u001b[0m\n",
            "\u001b[0;32m/usr/local/lib/python3.8/dist-packages/seaborn/_core.py\u001b[0m in \u001b[0;36miter_data\u001b[0;34m(self, grouping_vars, reverse, from_comp_data)\u001b[0m\n\u001b[1;32m    981\u001b[0m \u001b[0;34m\u001b[0m\u001b[0m\n\u001b[1;32m    982\u001b[0m         \u001b[0;32mif\u001b[0m \u001b[0mfrom_comp_data\u001b[0m\u001b[0;34m:\u001b[0m\u001b[0;34m\u001b[0m\u001b[0;34m\u001b[0m\u001b[0m\n\u001b[0;32m--> 983\u001b[0;31m             \u001b[0mdata\u001b[0m \u001b[0;34m=\u001b[0m \u001b[0mself\u001b[0m\u001b[0;34m.\u001b[0m\u001b[0mcomp_data\u001b[0m\u001b[0;34m\u001b[0m\u001b[0;34m\u001b[0m\u001b[0m\n\u001b[0m\u001b[1;32m    984\u001b[0m         \u001b[0;32melse\u001b[0m\u001b[0;34m:\u001b[0m\u001b[0;34m\u001b[0m\u001b[0;34m\u001b[0m\u001b[0m\n\u001b[1;32m    985\u001b[0m             \u001b[0mdata\u001b[0m \u001b[0;34m=\u001b[0m \u001b[0mself\u001b[0m\u001b[0;34m.\u001b[0m\u001b[0mplot_data\u001b[0m\u001b[0;34m\u001b[0m\u001b[0;34m\u001b[0m\u001b[0m\n",
            "\u001b[0;32m/usr/local/lib/python3.8/dist-packages/seaborn/_core.py\u001b[0m in \u001b[0;36mcomp_data\u001b[0;34m(self)\u001b[0m\n\u001b[1;32m   1055\u001b[0m                     \u001b[0morig\u001b[0m \u001b[0;34m=\u001b[0m \u001b[0mself\u001b[0m\u001b[0;34m.\u001b[0m\u001b[0mplot_data\u001b[0m\u001b[0;34m[\u001b[0m\u001b[0mvar\u001b[0m\u001b[0;34m]\u001b[0m\u001b[0;34m.\u001b[0m\u001b[0mdropna\u001b[0m\u001b[0;34m(\u001b[0m\u001b[0;34m)\u001b[0m\u001b[0;34m\u001b[0m\u001b[0;34m\u001b[0m\u001b[0m\n\u001b[1;32m   1056\u001b[0m                 \u001b[0mcomp_col\u001b[0m \u001b[0;34m=\u001b[0m \u001b[0mpd\u001b[0m\u001b[0;34m.\u001b[0m\u001b[0mSeries\u001b[0m\u001b[0;34m(\u001b[0m\u001b[0mindex\u001b[0m\u001b[0;34m=\u001b[0m\u001b[0morig\u001b[0m\u001b[0;34m.\u001b[0m\u001b[0mindex\u001b[0m\u001b[0;34m,\u001b[0m \u001b[0mdtype\u001b[0m\u001b[0;34m=\u001b[0m\u001b[0mfloat\u001b[0m\u001b[0;34m,\u001b[0m \u001b[0mname\u001b[0m\u001b[0;34m=\u001b[0m\u001b[0mvar\u001b[0m\u001b[0;34m)\u001b[0m\u001b[0;34m\u001b[0m\u001b[0;34m\u001b[0m\u001b[0m\n\u001b[0;32m-> 1057\u001b[0;31m                 \u001b[0mcomp_col\u001b[0m\u001b[0;34m.\u001b[0m\u001b[0mloc\u001b[0m\u001b[0;34m[\u001b[0m\u001b[0morig\u001b[0m\u001b[0;34m.\u001b[0m\u001b[0mindex\u001b[0m\u001b[0;34m]\u001b[0m \u001b[0;34m=\u001b[0m \u001b[0mpd\u001b[0m\u001b[0;34m.\u001b[0m\u001b[0mto_numeric\u001b[0m\u001b[0;34m(\u001b[0m\u001b[0maxis\u001b[0m\u001b[0;34m.\u001b[0m\u001b[0mconvert_units\u001b[0m\u001b[0;34m(\u001b[0m\u001b[0morig\u001b[0m\u001b[0;34m)\u001b[0m\u001b[0;34m)\u001b[0m\u001b[0;34m\u001b[0m\u001b[0;34m\u001b[0m\u001b[0m\n\u001b[0m\u001b[1;32m   1058\u001b[0m \u001b[0;34m\u001b[0m\u001b[0m\n\u001b[1;32m   1059\u001b[0m                 \u001b[0;32mif\u001b[0m \u001b[0maxis\u001b[0m\u001b[0;34m.\u001b[0m\u001b[0mget_scale\u001b[0m\u001b[0;34m(\u001b[0m\u001b[0;34m)\u001b[0m \u001b[0;34m==\u001b[0m \u001b[0;34m\"log\"\u001b[0m\u001b[0;34m:\u001b[0m\u001b[0;34m\u001b[0m\u001b[0;34m\u001b[0m\u001b[0m\n",
            "\u001b[0;32m/usr/local/lib/python3.8/dist-packages/pandas/core/indexing.py\u001b[0m in \u001b[0;36m__setitem__\u001b[0;34m(self, key, value)\u001b[0m\n\u001b[1;32m    721\u001b[0m \u001b[0;34m\u001b[0m\u001b[0m\n\u001b[1;32m    722\u001b[0m         \u001b[0miloc\u001b[0m \u001b[0;34m=\u001b[0m \u001b[0mself\u001b[0m \u001b[0;32mif\u001b[0m \u001b[0mself\u001b[0m\u001b[0;34m.\u001b[0m\u001b[0mname\u001b[0m \u001b[0;34m==\u001b[0m \u001b[0;34m\"iloc\"\u001b[0m \u001b[0;32melse\u001b[0m \u001b[0mself\u001b[0m\u001b[0;34m.\u001b[0m\u001b[0mobj\u001b[0m\u001b[0;34m.\u001b[0m\u001b[0miloc\u001b[0m\u001b[0;34m\u001b[0m\u001b[0;34m\u001b[0m\u001b[0m\n\u001b[0;32m--> 723\u001b[0;31m         \u001b[0miloc\u001b[0m\u001b[0;34m.\u001b[0m\u001b[0m_setitem_with_indexer\u001b[0m\u001b[0;34m(\u001b[0m\u001b[0mindexer\u001b[0m\u001b[0;34m,\u001b[0m \u001b[0mvalue\u001b[0m\u001b[0;34m,\u001b[0m \u001b[0mself\u001b[0m\u001b[0;34m.\u001b[0m\u001b[0mname\u001b[0m\u001b[0;34m)\u001b[0m\u001b[0;34m\u001b[0m\u001b[0;34m\u001b[0m\u001b[0m\n\u001b[0m\u001b[1;32m    724\u001b[0m \u001b[0;34m\u001b[0m\u001b[0m\n\u001b[1;32m    725\u001b[0m     \u001b[0;32mdef\u001b[0m \u001b[0m_validate_key\u001b[0m\u001b[0;34m(\u001b[0m\u001b[0mself\u001b[0m\u001b[0;34m,\u001b[0m \u001b[0mkey\u001b[0m\u001b[0;34m,\u001b[0m \u001b[0maxis\u001b[0m\u001b[0;34m:\u001b[0m \u001b[0mint\u001b[0m\u001b[0;34m)\u001b[0m\u001b[0;34m:\u001b[0m\u001b[0;34m\u001b[0m\u001b[0;34m\u001b[0m\u001b[0m\n",
            "\u001b[0;32m/usr/local/lib/python3.8/dist-packages/pandas/core/indexing.py\u001b[0m in \u001b[0;36m_setitem_with_indexer\u001b[0;34m(self, indexer, value, name)\u001b[0m\n\u001b[1;32m   1730\u001b[0m             \u001b[0mself\u001b[0m\u001b[0;34m.\u001b[0m\u001b[0m_setitem_with_indexer_split_path\u001b[0m\u001b[0;34m(\u001b[0m\u001b[0mindexer\u001b[0m\u001b[0;34m,\u001b[0m \u001b[0mvalue\u001b[0m\u001b[0;34m,\u001b[0m \u001b[0mname\u001b[0m\u001b[0;34m)\u001b[0m\u001b[0;34m\u001b[0m\u001b[0;34m\u001b[0m\u001b[0m\n\u001b[1;32m   1731\u001b[0m         \u001b[0;32melse\u001b[0m\u001b[0;34m:\u001b[0m\u001b[0;34m\u001b[0m\u001b[0;34m\u001b[0m\u001b[0m\n\u001b[0;32m-> 1732\u001b[0;31m             \u001b[0mself\u001b[0m\u001b[0;34m.\u001b[0m\u001b[0m_setitem_single_block\u001b[0m\u001b[0;34m(\u001b[0m\u001b[0mindexer\u001b[0m\u001b[0;34m,\u001b[0m \u001b[0mvalue\u001b[0m\u001b[0;34m,\u001b[0m \u001b[0mname\u001b[0m\u001b[0;34m)\u001b[0m\u001b[0;34m\u001b[0m\u001b[0;34m\u001b[0m\u001b[0m\n\u001b[0m\u001b[1;32m   1733\u001b[0m \u001b[0;34m\u001b[0m\u001b[0m\n\u001b[1;32m   1734\u001b[0m     \u001b[0;32mdef\u001b[0m \u001b[0m_setitem_with_indexer_split_path\u001b[0m\u001b[0;34m(\u001b[0m\u001b[0mself\u001b[0m\u001b[0;34m,\u001b[0m \u001b[0mindexer\u001b[0m\u001b[0;34m,\u001b[0m \u001b[0mvalue\u001b[0m\u001b[0;34m,\u001b[0m \u001b[0mname\u001b[0m\u001b[0;34m:\u001b[0m \u001b[0mstr\u001b[0m\u001b[0;34m)\u001b[0m\u001b[0;34m:\u001b[0m\u001b[0;34m\u001b[0m\u001b[0;34m\u001b[0m\u001b[0m\n",
            "\u001b[0;32m/usr/local/lib/python3.8/dist-packages/pandas/core/indexing.py\u001b[0m in \u001b[0;36m_setitem_single_block\u001b[0;34m(self, indexer, value, name)\u001b[0m\n\u001b[1;32m   1957\u001b[0m             \u001b[0;31m# setting for extensionarrays that store dicts. Need to decide\u001b[0m\u001b[0;34m\u001b[0m\u001b[0;34m\u001b[0m\u001b[0;34m\u001b[0m\u001b[0m\n\u001b[1;32m   1958\u001b[0m             \u001b[0;31m# if it's worth supporting that.\u001b[0m\u001b[0;34m\u001b[0m\u001b[0;34m\u001b[0m\u001b[0;34m\u001b[0m\u001b[0m\n\u001b[0;32m-> 1959\u001b[0;31m             \u001b[0mvalue\u001b[0m \u001b[0;34m=\u001b[0m \u001b[0mself\u001b[0m\u001b[0;34m.\u001b[0m\u001b[0m_align_series\u001b[0m\u001b[0;34m(\u001b[0m\u001b[0mindexer\u001b[0m\u001b[0;34m,\u001b[0m \u001b[0mSeries\u001b[0m\u001b[0;34m(\u001b[0m\u001b[0mvalue\u001b[0m\u001b[0;34m)\u001b[0m\u001b[0;34m)\u001b[0m\u001b[0;34m\u001b[0m\u001b[0;34m\u001b[0m\u001b[0m\n\u001b[0m\u001b[1;32m   1960\u001b[0m \u001b[0;34m\u001b[0m\u001b[0m\n\u001b[1;32m   1961\u001b[0m         \u001b[0;32melif\u001b[0m \u001b[0misinstance\u001b[0m\u001b[0;34m(\u001b[0m\u001b[0mvalue\u001b[0m\u001b[0;34m,\u001b[0m \u001b[0mABCDataFrame\u001b[0m\u001b[0;34m)\u001b[0m \u001b[0;32mand\u001b[0m \u001b[0mname\u001b[0m \u001b[0;34m!=\u001b[0m \u001b[0;34m\"iloc\"\u001b[0m\u001b[0;34m:\u001b[0m\u001b[0;34m\u001b[0m\u001b[0;34m\u001b[0m\u001b[0m\n",
            "\u001b[0;32m/usr/local/lib/python3.8/dist-packages/pandas/core/indexing.py\u001b[0m in \u001b[0;36m_align_series\u001b[0;34m(self, indexer, ser, multiindex_indexer)\u001b[0m\n\u001b[1;32m   2094\u001b[0m             \u001b[0;31m# series, so need to broadcast (see GH5206)\u001b[0m\u001b[0;34m\u001b[0m\u001b[0;34m\u001b[0m\u001b[0;34m\u001b[0m\u001b[0m\n\u001b[1;32m   2095\u001b[0m             \u001b[0;32mif\u001b[0m \u001b[0msum_aligners\u001b[0m \u001b[0;34m==\u001b[0m \u001b[0mself\u001b[0m\u001b[0;34m.\u001b[0m\u001b[0mndim\u001b[0m \u001b[0;32mand\u001b[0m \u001b[0mall\u001b[0m\u001b[0;34m(\u001b[0m\u001b[0mis_sequence\u001b[0m\u001b[0;34m(\u001b[0m\u001b[0m_\u001b[0m\u001b[0;34m)\u001b[0m \u001b[0;32mfor\u001b[0m \u001b[0m_\u001b[0m \u001b[0;32min\u001b[0m \u001b[0mindexer\u001b[0m\u001b[0;34m)\u001b[0m\u001b[0;34m:\u001b[0m\u001b[0;34m\u001b[0m\u001b[0;34m\u001b[0m\u001b[0m\n\u001b[0;32m-> 2096\u001b[0;31m                 \u001b[0mser\u001b[0m \u001b[0;34m=\u001b[0m \u001b[0mser\u001b[0m\u001b[0;34m.\u001b[0m\u001b[0mreindex\u001b[0m\u001b[0;34m(\u001b[0m\u001b[0mobj\u001b[0m\u001b[0;34m.\u001b[0m\u001b[0maxes\u001b[0m\u001b[0;34m[\u001b[0m\u001b[0;36m0\u001b[0m\u001b[0;34m]\u001b[0m\u001b[0;34m[\u001b[0m\u001b[0mindexer\u001b[0m\u001b[0;34m[\u001b[0m\u001b[0;36m0\u001b[0m\u001b[0;34m]\u001b[0m\u001b[0;34m]\u001b[0m\u001b[0;34m,\u001b[0m \u001b[0mcopy\u001b[0m\u001b[0;34m=\u001b[0m\u001b[0;32mTrue\u001b[0m\u001b[0;34m)\u001b[0m\u001b[0;34m.\u001b[0m\u001b[0m_values\u001b[0m\u001b[0;34m\u001b[0m\u001b[0;34m\u001b[0m\u001b[0m\n\u001b[0m\u001b[1;32m   2097\u001b[0m \u001b[0;34m\u001b[0m\u001b[0m\n\u001b[1;32m   2098\u001b[0m                 \u001b[0;31m# single indexer\u001b[0m\u001b[0;34m\u001b[0m\u001b[0;34m\u001b[0m\u001b[0;34m\u001b[0m\u001b[0m\n",
            "\u001b[0;32m/usr/local/lib/python3.8/dist-packages/pandas/core/series.py\u001b[0m in \u001b[0;36mreindex\u001b[0;34m(self, index, **kwargs)\u001b[0m\n\u001b[1;32m   4578\u001b[0m     )\n\u001b[1;32m   4579\u001b[0m     \u001b[0;32mdef\u001b[0m \u001b[0mreindex\u001b[0m\u001b[0;34m(\u001b[0m\u001b[0mself\u001b[0m\u001b[0;34m,\u001b[0m \u001b[0mindex\u001b[0m\u001b[0;34m=\u001b[0m\u001b[0;32mNone\u001b[0m\u001b[0;34m,\u001b[0m \u001b[0;34m**\u001b[0m\u001b[0mkwargs\u001b[0m\u001b[0;34m)\u001b[0m\u001b[0;34m:\u001b[0m\u001b[0;34m\u001b[0m\u001b[0;34m\u001b[0m\u001b[0m\n\u001b[0;32m-> 4580\u001b[0;31m         \u001b[0;32mreturn\u001b[0m \u001b[0msuper\u001b[0m\u001b[0;34m(\u001b[0m\u001b[0;34m)\u001b[0m\u001b[0;34m.\u001b[0m\u001b[0mreindex\u001b[0m\u001b[0;34m(\u001b[0m\u001b[0mindex\u001b[0m\u001b[0;34m=\u001b[0m\u001b[0mindex\u001b[0m\u001b[0;34m,\u001b[0m \u001b[0;34m**\u001b[0m\u001b[0mkwargs\u001b[0m\u001b[0;34m)\u001b[0m\u001b[0;34m\u001b[0m\u001b[0;34m\u001b[0m\u001b[0m\n\u001b[0m\u001b[1;32m   4581\u001b[0m \u001b[0;34m\u001b[0m\u001b[0m\n\u001b[1;32m   4582\u001b[0m     \u001b[0;34m@\u001b[0m\u001b[0mdeprecate_nonkeyword_arguments\u001b[0m\u001b[0;34m(\u001b[0m\u001b[0mversion\u001b[0m\u001b[0;34m=\u001b[0m\u001b[0;32mNone\u001b[0m\u001b[0;34m,\u001b[0m \u001b[0mallowed_args\u001b[0m\u001b[0;34m=\u001b[0m\u001b[0;34m[\u001b[0m\u001b[0;34m\"self\"\u001b[0m\u001b[0;34m,\u001b[0m \u001b[0;34m\"labels\"\u001b[0m\u001b[0;34m]\u001b[0m\u001b[0;34m)\u001b[0m\u001b[0;34m\u001b[0m\u001b[0;34m\u001b[0m\u001b[0m\n",
            "\u001b[0;32m/usr/local/lib/python3.8/dist-packages/pandas/core/generic.py\u001b[0m in \u001b[0;36mreindex\u001b[0;34m(self, *args, **kwargs)\u001b[0m\n\u001b[1;32m   4816\u001b[0m \u001b[0;34m\u001b[0m\u001b[0m\n\u001b[1;32m   4817\u001b[0m         \u001b[0;31m# perform the reindex on the axes\u001b[0m\u001b[0;34m\u001b[0m\u001b[0;34m\u001b[0m\u001b[0;34m\u001b[0m\u001b[0m\n\u001b[0;32m-> 4818\u001b[0;31m         return self._reindex_axes(\n\u001b[0m\u001b[1;32m   4819\u001b[0m             \u001b[0maxes\u001b[0m\u001b[0;34m,\u001b[0m \u001b[0mlevel\u001b[0m\u001b[0;34m,\u001b[0m \u001b[0mlimit\u001b[0m\u001b[0;34m,\u001b[0m \u001b[0mtolerance\u001b[0m\u001b[0;34m,\u001b[0m \u001b[0mmethod\u001b[0m\u001b[0;34m,\u001b[0m \u001b[0mfill_value\u001b[0m\u001b[0;34m,\u001b[0m \u001b[0mcopy\u001b[0m\u001b[0;34m\u001b[0m\u001b[0;34m\u001b[0m\u001b[0m\n\u001b[1;32m   4820\u001b[0m         ).__finalize__(self, method=\"reindex\")\n",
            "\u001b[0;32m/usr/local/lib/python3.8/dist-packages/pandas/core/generic.py\u001b[0m in \u001b[0;36m_reindex_axes\u001b[0;34m(self, axes, level, limit, tolerance, method, fill_value, copy)\u001b[0m\n\u001b[1;32m   4837\u001b[0m \u001b[0;34m\u001b[0m\u001b[0m\n\u001b[1;32m   4838\u001b[0m             \u001b[0maxis\u001b[0m \u001b[0;34m=\u001b[0m \u001b[0mself\u001b[0m\u001b[0;34m.\u001b[0m\u001b[0m_get_axis_number\u001b[0m\u001b[0;34m(\u001b[0m\u001b[0ma\u001b[0m\u001b[0;34m)\u001b[0m\u001b[0;34m\u001b[0m\u001b[0;34m\u001b[0m\u001b[0m\n\u001b[0;32m-> 4839\u001b[0;31m             obj = obj._reindex_with_indexers(\n\u001b[0m\u001b[1;32m   4840\u001b[0m                 \u001b[0;34m{\u001b[0m\u001b[0maxis\u001b[0m\u001b[0;34m:\u001b[0m \u001b[0;34m[\u001b[0m\u001b[0mnew_index\u001b[0m\u001b[0;34m,\u001b[0m \u001b[0mindexer\u001b[0m\u001b[0;34m]\u001b[0m\u001b[0;34m}\u001b[0m\u001b[0;34m,\u001b[0m\u001b[0;34m\u001b[0m\u001b[0;34m\u001b[0m\u001b[0m\n\u001b[1;32m   4841\u001b[0m                 \u001b[0mfill_value\u001b[0m\u001b[0;34m=\u001b[0m\u001b[0mfill_value\u001b[0m\u001b[0;34m,\u001b[0m\u001b[0;34m\u001b[0m\u001b[0;34m\u001b[0m\u001b[0m\n",
            "\u001b[0;32m/usr/local/lib/python3.8/dist-packages/pandas/core/generic.py\u001b[0m in \u001b[0;36m_reindex_with_indexers\u001b[0;34m(self, reindexers, fill_value, copy, allow_dups)\u001b[0m\n\u001b[1;32m   4881\u001b[0m \u001b[0;34m\u001b[0m\u001b[0m\n\u001b[1;32m   4882\u001b[0m             \u001b[0;31m# TODO: speed up on homogeneous DataFrame objects\u001b[0m\u001b[0;34m\u001b[0m\u001b[0;34m\u001b[0m\u001b[0;34m\u001b[0m\u001b[0m\n\u001b[0;32m-> 4883\u001b[0;31m             new_data = new_data.reindex_indexer(\n\u001b[0m\u001b[1;32m   4884\u001b[0m                 \u001b[0mindex\u001b[0m\u001b[0;34m,\u001b[0m\u001b[0;34m\u001b[0m\u001b[0;34m\u001b[0m\u001b[0m\n\u001b[1;32m   4885\u001b[0m                 \u001b[0mindexer\u001b[0m\u001b[0;34m,\u001b[0m\u001b[0;34m\u001b[0m\u001b[0;34m\u001b[0m\u001b[0m\n",
            "\u001b[0;32m/usr/local/lib/python3.8/dist-packages/pandas/core/internals/managers.py\u001b[0m in \u001b[0;36mreindex_indexer\u001b[0;34m(self, new_axis, indexer, axis, fill_value, allow_dups, copy, consolidate, only_slice)\u001b[0m\n\u001b[1;32m    668\u001b[0m         \u001b[0;31m# some axes don't allow reindexing with dups\u001b[0m\u001b[0;34m\u001b[0m\u001b[0;34m\u001b[0m\u001b[0;34m\u001b[0m\u001b[0m\n\u001b[1;32m    669\u001b[0m         \u001b[0;32mif\u001b[0m \u001b[0;32mnot\u001b[0m \u001b[0mallow_dups\u001b[0m\u001b[0;34m:\u001b[0m\u001b[0;34m\u001b[0m\u001b[0;34m\u001b[0m\u001b[0m\n\u001b[0;32m--> 670\u001b[0;31m             \u001b[0mself\u001b[0m\u001b[0;34m.\u001b[0m\u001b[0maxes\u001b[0m\u001b[0;34m[\u001b[0m\u001b[0maxis\u001b[0m\u001b[0;34m]\u001b[0m\u001b[0;34m.\u001b[0m\u001b[0m_validate_can_reindex\u001b[0m\u001b[0;34m(\u001b[0m\u001b[0mindexer\u001b[0m\u001b[0;34m)\u001b[0m\u001b[0;34m\u001b[0m\u001b[0;34m\u001b[0m\u001b[0m\n\u001b[0m\u001b[1;32m    671\u001b[0m \u001b[0;34m\u001b[0m\u001b[0m\n\u001b[1;32m    672\u001b[0m         \u001b[0;32mif\u001b[0m \u001b[0maxis\u001b[0m \u001b[0;34m>=\u001b[0m \u001b[0mself\u001b[0m\u001b[0;34m.\u001b[0m\u001b[0mndim\u001b[0m\u001b[0;34m:\u001b[0m\u001b[0;34m\u001b[0m\u001b[0;34m\u001b[0m\u001b[0m\n",
            "\u001b[0;32m/usr/local/lib/python3.8/dist-packages/pandas/core/indexes/base.py\u001b[0m in \u001b[0;36m_validate_can_reindex\u001b[0;34m(self, indexer)\u001b[0m\n\u001b[1;32m   3783\u001b[0m         \u001b[0;31m# trying to reindex on an axis with duplicates\u001b[0m\u001b[0;34m\u001b[0m\u001b[0;34m\u001b[0m\u001b[0;34m\u001b[0m\u001b[0m\n\u001b[1;32m   3784\u001b[0m         \u001b[0;32mif\u001b[0m \u001b[0;32mnot\u001b[0m \u001b[0mself\u001b[0m\u001b[0;34m.\u001b[0m\u001b[0m_index_as_unique\u001b[0m \u001b[0;32mand\u001b[0m \u001b[0mlen\u001b[0m\u001b[0;34m(\u001b[0m\u001b[0mindexer\u001b[0m\u001b[0;34m)\u001b[0m\u001b[0;34m:\u001b[0m\u001b[0;34m\u001b[0m\u001b[0;34m\u001b[0m\u001b[0m\n\u001b[0;32m-> 3785\u001b[0;31m             \u001b[0;32mraise\u001b[0m \u001b[0mValueError\u001b[0m\u001b[0;34m(\u001b[0m\u001b[0;34m\"cannot reindex from a duplicate axis\"\u001b[0m\u001b[0;34m)\u001b[0m\u001b[0;34m\u001b[0m\u001b[0;34m\u001b[0m\u001b[0m\n\u001b[0m\u001b[1;32m   3786\u001b[0m \u001b[0;34m\u001b[0m\u001b[0m\n\u001b[1;32m   3787\u001b[0m     def reindex(\n",
            "\u001b[0;31mValueError\u001b[0m: cannot reindex from a duplicate axis"
          ]
        },
        {
          "output_type": "display_data",
          "data": {
            "text/plain": [
              "<Figure size 720x360 with 1 Axes>"
            ],
            "image/png": "[encoded data removed]"
          },
          "metadata": {
            "needs_background": "light"
          }
        }
      ]
    },
    {
      "cell_type": "markdown",
      "source": [
        "A clear pattern can be seen in the plot above! As the number of demerits a driver has increases, so do the odds that they will make repeat insurance claims. In fact, for those with 9 demerit points or more, 100% of them have made more than one claim in the past 5 years!"
      ],
      "metadata": {
        "id": "2W67sPt6Uh9g"
      }
    },
    {
      "cell_type": "markdown",
      "source": [
        "Age"
      ],
      "metadata": {
        "id": "aB2rgbPCVJ9-"
      }
    },
    {
      "cell_type": "markdown",
      "source": [
        "To observe whether one age group has an increased likelihood compared to another, It is required to sort the customers into age groups:\n",
        "\n",
        "16-22\n",
        "22-30\n",
        "30-40\n",
        "40-50\n",
        "50-60\n",
        "60+"
      ],
      "metadata": {
        "id": "_gKP1_9bUl4P"
      }
    },
    {
      "cell_type": "code",
      "source": [
        "# sort customers into age groups\n",
        "data['AGEGROUP'] = pd.cut(data[\"AGE\"], bins = [16, 22, 30, 40, 50, 60, np.inf], labels = ['16-22', '22-30', '30-40', '40-50', '50-60', '60+'])\n",
        "figure(figsize=(12,6))\n",
        "sns.barplot(x='AGEGROUP',y=\"REPEAT\", data=data)\n",
        "plt.xlabel(\"Age Group (years)\")\n",
        "plt.ylabel(\"Proportion of Repeat Offenders\")\n",
        "plt.show()"
      ],
      "metadata": {
        "colab": {
          "base_uri": "https://localhost:8080/",
          "height": 388
        },
        "id": "8wN_XiktMSJL",
        "outputId": "69b708da-c455-4b94-c654-cc197389e6cd"
      },
      "execution_count": null,
      "outputs": [
        {
          "output_type": "display_data",
          "data": {
            "text/plain": [
              "<Figure size 864x432 with 1 Axes>"
            ],
            "image/png": "[encoded data removed]"
          },
          "metadata": {
            "needs_background": "light"
          }
        }
      ]
    },
    {
      "cell_type": "markdown",
      "source": [
        "Younger drivers, those in the age group of either 16-22 or 22-30, are at the highest risk of making repeat insurance claims."
      ],
      "metadata": {
        "id": "JATDvpJMU-ZY"
      }
    },
    {
      "cell_type": "markdown",
      "source": [
        "Income"
      ],
      "metadata": {
        "id": "Yl6PkfZqVRb9"
      }
    },
    {
      "cell_type": "markdown",
      "source": [
        "This step also requires some feature engineering: each customer is sorted into an income bracket before visualizing the data."
      ],
      "metadata": {
        "id": "RBDsp5UQVDau"
      }
    },
    {
      "cell_type": "code",
      "source": [
        "# sort customers into income groups\n",
        "data['INCOMEGROUP'] = pd.cut(data[\"INCOME\"], bins = [0, 20000, 40000, 60000, 80000, 100000, 125000, np.inf], labels = ['0-20k', '20-40k', '40-60k', '60-80k', '80-100k', '100-125k', '125k+'])\n",
        "# Pandas cut() function is used to separate the array elements into different bins . float('inf') is used for setting a variable with an infinitely large value. \n",
        "# Binning also known as bucketing or discretization is a common data pre-processing technique used to group intervals of continuous data into “bins” or “buckets”.\n",
        "figure(figsize=(12,6))\n",
        "sns.barplot(x='INCOMEGROUP',y=\"REPEAT\", data=data)\n",
        "plt.xlabel(\"Income Group ($)\")\n",
        "plt.ylabel(\"Proportion of Repeat Offenders\")\n",
        "plt.show()"
      ],
      "metadata": {
        "colab": {
          "base_uri": "https://localhost:8080/",
          "height": 388
        },
        "id": "RY_2R827MSKo",
        "outputId": "23a124b8-fb04-49db-8f43-9e583fcf039e"
      },
      "execution_count": null,
      "outputs": [
        {
          "output_type": "display_data",
          "data": {
            "text/plain": [
              "<Figure size 864x432 with 1 Axes>"
            ],
            "image/png": "[encoded data removed]"
          },
          "metadata": {
            "needs_background": "light"
          }
        }
      ]
    },
    {
      "cell_type": "markdown",
      "source": [
        "Income doesn't seem to have a huge effect on the likelihood of repeat offenses, other than a small dip after income surpasses $100,000."
      ],
      "metadata": {
        "id": "86Xri1QdVg5L"
      }
    },
    {
      "cell_type": "markdown",
      "source": [
        "License Revoked"
      ],
      "metadata": {
        "id": "d56iRwilVkHd"
      }
    },
    {
      "cell_type": "markdown",
      "source": [
        "Those drivers who've had their license revoked in the past seven years may drive more dangerously , and thus lead to an increase in repeat claims."
      ],
      "metadata": {
        "id": "nuw3xVWWVo81"
      }
    },
    {
      "cell_type": "code",
      "source": [
        "print(\"How many drivers who've had their license revoked made repeat claims?\")\n",
        "print(\"{:.2%}\".format(data[\"REPEAT\"][data[\"REVOKED\"] == 'Yes'].value_counts(normalize = True)[1]))\n",
        "\n",
        "print(\"How many drivers who haven't had their license revoked made repeat claims?\")\n",
        "print(\"{:.2%}\".format(data[\"REPEAT\"][data[\"REVOKED\"] == 'No'].value_counts(normalize = True)[1]))\n",
        "figure(figsize=(10,6))\n",
        "sns.barplot(x='REVOKED',y=\"REPEAT\", data=data)\n",
        "plt.xlabel('Has license been revoked in the past seven years?')\n",
        "plt.ylabel(\"Proportion of Repeat Offenders\")\n",
        "plt.show()"
      ],
      "metadata": {
        "colab": {
          "base_uri": "https://localhost:8080/",
          "height": 462
        },
        "id": "ZGyyu7l5MSOR",
        "outputId": "da1ff2d9-f1c0-4505-a4d9-1a9060b52526"
      },
      "execution_count": null,
      "outputs": [
        {
          "output_type": "stream",
          "name": "stdout",
          "text": [
            "How many drivers who've had their license revoked made repeat claims?\n",
            "48.69%\n",
            "How many drivers who haven't had their license revoked made repeat claims?\n",
            "37.56%\n"
          ]
        },
        {
          "output_type": "display_data",
          "data": {
            "text/plain": [
              "<Figure size 720x432 with 1 Axes>"
            ],
            "image/png": "[encoded data removed]"
          },
          "metadata": {
            "needs_background": "light"
          }
        }
      ]
    },
    {
      "cell_type": "markdown",
      "source": [
        "It's true. Drivers who've had their license revoked recently have a greater chance of being repeat offenders."
      ],
      "metadata": {
        "id": "WK0v6jreV6gP"
      }
    },
    {
      "cell_type": "markdown",
      "source": [
        "Was vehicle in a crash?"
      ],
      "metadata": {
        "id": "oVKPEnHvV-My"
      }
    },
    {
      "cell_type": "markdown",
      "source": [
        "CLAIM_FLAG tells us whether or not the car was in a crash for this particular insurance claim."
      ],
      "metadata": {
        "id": "7zdgjvLeWBPG"
      }
    },
    {
      "cell_type": "code",
      "source": [
        "print(\"How many drivers whose car was in a crash made repeat claims?\")\n",
        "print(\"{:.2%}\".format(data[\"REPEAT\"][data[\"CLAIM_FLAG\"] == 1].value_counts(normalize = True)[1]))\n",
        "\n",
        "print(\"How many drivers whose car wasn't in a crash made repeat claims?\")\n",
        "print(\"{:.2%}\".format(data[\"REPEAT\"][data[\"CLAIM_FLAG\"] == 0].value_counts(normalize = True)[1]))\n",
        "figure(figsize=(10,6))\n",
        "sns.barplot(x='CLAIM_FLAG',y=\"REPEAT\", data=data)\n",
        "plt.xlabel('Was the car in a crash?')\n",
        "plt.xticks([0,1],labels=['No','Yes'])\n",
        "plt.ylabel(\"Proportion of Repeat Offenders\")\n",
        "plt.show()"
      ],
      "metadata": {
        "colab": {
          "base_uri": "https://localhost:8080/",
          "height": 462
        },
        "id": "uyO4CvtyMSP1",
        "outputId": "2793c01c-3c8c-4768-fdb0-a63927fa5006"
      },
      "execution_count": null,
      "outputs": [
        {
          "output_type": "stream",
          "name": "stdout",
          "text": [
            "How many drivers whose car was in a crash made repeat claims?\n",
            "59.10%\n",
            "How many drivers whose car wasn't in a crash made repeat claims?\n",
            "31.59%\n"
          ]
        },
        {
          "output_type": "display_data",
          "data": {
            "text/plain": [
              "<Figure size 720x432 with 1 Axes>"
            ],
            "image/png": "[encoded data removed]"
          },
          "metadata": {
            "needs_background": "light"
          }
        }
      ]
    },
    {
      "cell_type": "markdown",
      "source": [
        "Whether or not the car was in a crash for this particular insurance claim seems to have a large effect on whether or not the driver made repeat claims - 59% vs 32%!"
      ],
      "metadata": {
        "id": "Nt3pJBUrWR7K"
      }
    },
    {
      "cell_type": "code",
      "source": [],
      "metadata": {
        "id": "Bvuqam3EWTzw"
      },
      "execution_count": null,
      "outputs": []
    },
    {
      "cell_type": "code",
      "source": [],
      "metadata": {
        "id": "wV1Lr8tcWTyM"
      },
      "execution_count": null,
      "outputs": []
    },
    {
      "cell_type": "code",
      "source": [],
      "metadata": {
        "id": "Vr97aUd9E9Hq"
      },
      "execution_count": null,
      "outputs": []
    }
  ]
}